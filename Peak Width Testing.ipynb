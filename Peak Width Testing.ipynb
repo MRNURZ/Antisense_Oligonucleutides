{
 "cells": [
  {
   "cell_type": "markdown",
   "id": "ec4c38b5",
   "metadata": {},
   "source": [
    "@author: Manal Rahal - 21 Nov 2022 <br>\n",
    "@title: Models testing on the big dataset, predicting peak width"
   ]
  },
  {
   "cell_type": "code",
   "execution_count": null,
   "id": "a1b9635c",
   "metadata": {
    "tags": []
   },
   "outputs": [],
   "source": [
    "! pip install seqfold"
   ]
  },
  {
   "cell_type": "code",
   "execution_count": null,
   "id": "6b4cded3",
   "metadata": {},
   "outputs": [],
   "source": [
    "import os\n",
    "mydir = os.getcwd() # would be the MAIN folder\n",
    "mydir"
   ]
  },
  {
   "cell_type": "code",
   "execution_count": null,
   "id": "2e1dc85d",
   "metadata": {},
   "outputs": [],
   "source": [
    "! python Encode_funcs_test.py"
   ]
  },
  {
   "cell_type": "code",
   "execution_count": null,
   "id": "12d6a423",
   "metadata": {},
   "outputs": [],
   "source": [
    "! python supporting_funcs.py"
   ]
  },
  {
   "cell_type": "code",
   "execution_count": null,
   "id": "5edd899f",
   "metadata": {},
   "outputs": [],
   "source": [
    "import numpy as np\n",
    "import pandas as pd\n",
    "import os\n",
    "import time\n",
    "from datetime import datetime\n",
    "from itertools import product, combinations\n",
    "import sklearn.model_selection as skl_ms\n",
    "import sklearn.metrics as skl_me\n",
    "from sklearn.ensemble import GradientBoostingRegressor\n",
    "from sklearn.ensemble import RandomForestRegressor\n",
    "from sklearn.tree import DecisionTreeRegressor\n",
    "import sklearn.svm as svm\n",
    "import matplotlib.pyplot as plt \n",
    "from sklearn import preprocessing\n",
    "import math\n",
    "from sklearn.model_selection import train_test_split\n",
    "from sklearn.metrics import mean_squared_error, make_scorer, r2_score\n",
    "import matplotlib.pyplot as plt\n",
    "from sklearn.model_selection import GridSearchCV\n",
    "from sklearn.model_selection import KFold\n",
    "from sklearn import preprocessing\n",
    "import pickle\n",
    "from sklearn.utils import shuffle"
   ]
  },
  {
   "cell_type": "code",
   "execution_count": null,
   "id": "42b8628d",
   "metadata": {},
   "outputs": [],
   "source": [
    "import Encode_funcs_test\n",
    "from Encode_funcs_test import *\n",
    "from Encode_funcs_test import encode_input"
   ]
  },
  {
   "cell_type": "code",
   "execution_count": null,
   "id": "a2b8c40b",
   "metadata": {},
   "outputs": [],
   "source": [
    "import supporting_funcs\n",
    "from supporting_funcs import get_null_percentage, isnullcolumns, isinfinitecolumns, find_outliers_IQR, generate_ID\n",
    "from supporting_funcs import draw_scatter, is_lost_sulfur, count_sulfur, return_phosphated_seq, is_phosphated, percentage_phosphated"
   ]
  },
  {
   "cell_type": "markdown",
   "id": "563226d6",
   "metadata": {},
   "source": [
    "## **Loading and Encoding Retention Time Dataset**"
   ]
  },
  {
   "cell_type": "code",
   "execution_count": null,
   "id": "6aedfce8",
   "metadata": {},
   "outputs": [],
   "source": [
    "#__Loading data from excel file, each gradient is in a sheet\n",
    "\n",
    "xls = pd.ExcelFile('../data/oligodata121022.xlsx')"
   ]
  },
  {
   "cell_type": "code",
   "execution_count": null,
   "id": "36daad43",
   "metadata": {},
   "outputs": [],
   "source": [
    "oligo_G11 = pd.read_excel(xls, sheet_name='11min gradient')\n",
    "oligo_G22 =pd.read_excel(xls, sheet_name='22min gradient')\n",
    "oligo_G33 =pd.read_excel(xls, sheet_name='44min gradient')"
   ]
  },
  {
   "cell_type": "code",
   "execution_count": null,
   "id": "6dce849a",
   "metadata": {},
   "outputs": [],
   "source": [
    "oligo_G11.info()"
   ]
  },
  {
   "cell_type": "code",
   "execution_count": null,
   "id": "bd9c8ba4-8bc9-4e4e-bb92-5dc0b542fab3",
   "metadata": {},
   "outputs": [],
   "source": [
    "oligo_G22.info()"
   ]
  },
  {
   "cell_type": "code",
   "execution_count": null,
   "id": "b954cc58-227a-4e41-ab9d-3d6a53cbf628",
   "metadata": {},
   "outputs": [],
   "source": [
    "oligo_G33.info()"
   ]
  },
  {
   "cell_type": "code",
   "execution_count": null,
   "id": "df8e5fe9-dc62-4726-8895-170bf3854bca",
   "metadata": {},
   "outputs": [],
   "source": [
    "#check all sequences columns in G1, G2 dataset match before merging\n",
    "\n",
    "#merge_data = pd.DataFrame()\n",
    "#merge_data['S1'] = oligo_G11['Sequence']\n",
    "#merge_data['S2'] = oligo_G22['Sequence']\n",
    "#merge_data['all_matching'] = merge_data.apply(lambda x: x.S1 == x.S2, axis = 1)\n",
    "#merge_data[ merge_data['all_matching'] == False]\n",
    "\n",
    "#therefore S1 and S2 columns match, we can merge width1 and width 2.\n",
    "#--------------------------------------------------------------------"
   ]
  },
  {
   "cell_type": "code",
   "execution_count": null,
   "id": "584a6d7f-42b7-490c-b14a-9663a1992c91",
   "metadata": {
    "tags": []
   },
   "outputs": [],
   "source": [
    "#check all sequences columns in G1, G2, G3 dataset match before merging\n",
    "#merge_data = pd.DataFrame()\n",
    "#merge_data['S1'] = oligo_G11['Sequence']\n",
    "#merge_data['S2'] = oligo_G22['Sequence']\n",
    "#merge_data['S3'] = oligo_G33['Sequence']\n",
    "#merge_data['all_matching'] = merge_data.apply(lambda x: x.S1 == x.S2 == x.S3, axis = 1)\n",
    "#merge_data[ merge_data['all_matching'] == False]\n",
    "\n",
    "#therefore S1 and S3 dont match, we need to setup a condition for matching before merging G3 data into merge_data.\n",
    "#-----------------------------------------------------------------------------------------------------------------"
   ]
  },
  {
   "cell_type": "code",
   "execution_count": null,
   "id": "b3e0f85b-fc3f-4acf-ba8e-ae7afa4fb65a",
   "metadata": {},
   "outputs": [],
   "source": [
    "oligo_G11['gradient'] = 'G1'\n",
    "oligo_G22['gradient'] = 'G2'\n",
    "oligo_G33['gradient'] = 'G3'\n",
    "oligo_G33.head()"
   ]
  },
  {
   "cell_type": "code",
   "execution_count": null,
   "id": "6339d1c1-5f58-4371-93e2-33cc09626793",
   "metadata": {},
   "outputs": [],
   "source": [
    "frames = [oligo_G11, oligo_G22, oligo_G33]\n",
    "merge_data = pd.concat(frames, axis = 0)\n",
    "merge_data"
   ]
  },
  {
   "cell_type": "code",
   "execution_count": null,
   "id": "0aff7b24-e149-4ee4-8093-6aa7e04d59f5",
   "metadata": {},
   "outputs": [],
   "source": [
    "merge_data.info()"
   ]
  },
  {
   "cell_type": "code",
   "execution_count": null,
   "id": "3347448e-3643-4452-91b1-8783ea3e4128",
   "metadata": {},
   "outputs": [],
   "source": [
    "print (isnullcolumns(merge_data))"
   ]
  },
  {
   "cell_type": "code",
   "execution_count": null,
   "id": "6d85f36b-d160-4261-9167-5f328798cbe7",
   "metadata": {},
   "outputs": [],
   "source": [
    "# drop rows that has a null value in the width column\n",
    "\n",
    "merge_data = merge_data.dropna(axis=0, how='any', subset=['width'])"
   ]
  },
  {
   "cell_type": "code",
   "execution_count": null,
   "id": "dd0bf41b-a613-422c-b440-80580f7b561d",
   "metadata": {},
   "outputs": [],
   "source": [
    "print (isnullcolumns(merge_data))"
   ]
  },
  {
   "cell_type": "code",
   "execution_count": null,
   "id": "76738314-81da-4461-b856-6a92fc26f4b5",
   "metadata": {},
   "outputs": [],
   "source": [
    "merge_data.head()"
   ]
  },
  {
   "cell_type": "code",
   "execution_count": null,
   "id": "46597877-f967-480d-8723-2676f2f668d7",
   "metadata": {},
   "outputs": [],
   "source": [
    "merge_data = merge_data.reset_index()"
   ]
  },
  {
   "cell_type": "code",
   "execution_count": null,
   "id": "f71482cd-3918-4b0b-ab45-446c9eb980ba",
   "metadata": {},
   "outputs": [],
   "source": [
    "merge_data = merge_data.astype({'Sequence':'string'})"
   ]
  },
  {
   "cell_type": "code",
   "execution_count": null,
   "id": "6224409b-48da-496a-a5b5-bda90d716915",
   "metadata": {},
   "outputs": [],
   "source": [
    "merge_data.info()"
   ]
  },
  {
   "cell_type": "code",
   "execution_count": null,
   "id": "56c8cc9c-08d8-4ca3-a4b8-648d207bb48c",
   "metadata": {},
   "outputs": [],
   "source": [
    "non_Phosp_data = merge_data[ merge_data[\"Sequence\"].str.contains(\"P=O\") == False]"
   ]
  },
  {
   "cell_type": "code",
   "execution_count": null,
   "id": "8adf7a35-174f-4fa4-8081-cc72cf83552e",
   "metadata": {},
   "outputs": [],
   "source": [
    "non_Phosp_data[non_Phosp_data['gradient'] == 'G2'].shape"
   ]
  },
  {
   "cell_type": "code",
   "execution_count": null,
   "id": "20167892-c39e-48e5-974c-e4d113e1c3e9",
   "metadata": {},
   "outputs": [],
   "source": [
    "non_Phosp_data.info()"
   ]
  },
  {
   "cell_type": "code",
   "execution_count": null,
   "id": "6f236bdf-71bb-4bc3-8bbe-95d6768de7bd",
   "metadata": {},
   "outputs": [],
   "source": [
    "non_Phosp_data.shape"
   ]
  },
  {
   "cell_type": "code",
   "execution_count": null,
   "id": "32657a53-1102-481e-a4b8-2d83f345ae8a",
   "metadata": {},
   "outputs": [],
   "source": [
    "non_Phosp_data"
   ]
  },
  {
   "cell_type": "code",
   "execution_count": null,
   "id": "e8816b6c-4310-4992-8f0a-4c960c0d1ff0",
   "metadata": {},
   "outputs": [],
   "source": [
    "target_data = non_Phosp_data.loc[:,['width']]\n",
    "print(target_data.shape)\n",
    "target_data.head()"
   ]
  },
  {
   "cell_type": "code",
   "execution_count": null,
   "id": "b03a0bf8-076d-4e28-8edc-11a71a46a5b4",
   "metadata": {},
   "outputs": [],
   "source": [
    "input_data = non_Phosp_data.loc[:, ~non_Phosp_data.columns.isin(['width'])]\n",
    "print(input_data.shape)\n",
    "input_data.head()"
   ]
  },
  {
   "cell_type": "code",
   "execution_count": null,
   "id": "3c8c0fbe-5ab7-410f-9956-c00cce707266",
   "metadata": {},
   "outputs": [],
   "source": [
    "#input_data.to_excel(\"PW_input_data.xlsx\")"
   ]
  },
  {
   "cell_type": "markdown",
   "id": "8d0d5b4f-2b35-429f-9927-564de17ef5f5",
   "metadata": {},
   "source": [
    "# Machine Learning "
   ]
  },
  {
   "cell_type": "code",
   "execution_count": null,
   "id": "59424dc1-86e5-4645-9dea-8283d10a4413",
   "metadata": {},
   "outputs": [],
   "source": [
    "#### RUN ONLY ONCE THEN READ THE DATASETS FROM THE EXPERTED FILES\n",
    "#train_ratio = 0.7\n",
    "#test_ratio = 0.3\n",
    "\n",
    "#xtrain, xtest, ytrain, ytest = train_test_split(input_data, target_data, test_size=test_ratio, random_state=42, shuffle =True)\n",
    "\n",
    "#print('xtrain ', xtrain.shape,'\\n')\n",
    "#print('ytrain ', ytrain.shape,'\\n')\n",
    "#print('xtest ', xtest.shape,'\\n')\n",
    "#print('ytest ', ytest.shape,'\\n')"
   ]
  },
  {
   "cell_type": "code",
   "execution_count": null,
   "id": "ab5a268a-07c8-424c-986e-37e1c2f4f5ac",
   "metadata": {},
   "outputs": [],
   "source": [
    "#### RUN ONLY ONCE THEN READ THE DATASETS FROM THE EXPORTED FILES\n",
    "#----------------------------------------------------------------#\n",
    "\n",
    "#xtrain.to_excel(\"PW_xtrain.xlsx\")\n",
    "#ytrain.to_excel(\"PW_ytrain.xlsx\")\n",
    "#xtest.to_excel(\"PW_xtest.xlsx\")\n",
    "#ytest.to_excel(\"PW_ytest.xlsx\")"
   ]
  },
  {
   "cell_type": "code",
   "execution_count": null,
   "id": "9cf3a4a9-262d-4aad-acdd-1caa590e660f",
   "metadata": {},
   "outputs": [],
   "source": [
    "x_train = pd.read_excel('PW_xtrain.xlsx')\n",
    "y_train = pd.read_excel('PW_ytrain.xlsx')"
   ]
  },
  {
   "cell_type": "code",
   "execution_count": null,
   "id": "c76b4d3e-0b52-48b5-913b-1b0fdca395e3",
   "metadata": {},
   "outputs": [],
   "source": [
    "x_test = pd.read_excel('PW_xtest.xlsx')\n",
    "y_test = pd.read_excel('PW_ytest.xlsx')"
   ]
  },
  {
   "cell_type": "code",
   "execution_count": null,
   "id": "411cd68c-1ab1-4a34-99a1-2eca54c065fc",
   "metadata": {},
   "outputs": [],
   "source": [
    "x_train.shape"
   ]
  },
  {
   "cell_type": "code",
   "execution_count": null,
   "id": "fc2c4bda-2c7e-4384-890f-1e5362798d6b",
   "metadata": {},
   "outputs": [],
   "source": [
    "y_train.shape"
   ]
  },
  {
   "cell_type": "code",
   "execution_count": null,
   "id": "129747ac-0dcc-44a7-9a53-76a9e1441d1e",
   "metadata": {},
   "outputs": [],
   "source": [
    "x_test.shape"
   ]
  },
  {
   "cell_type": "code",
   "execution_count": null,
   "id": "ce99467c-77ec-4f2b-84f7-8f1eb61b90e2",
   "metadata": {},
   "outputs": [],
   "source": [
    "y_test.shape"
   ]
  },
  {
   "cell_type": "code",
   "execution_count": null,
   "id": "c03ead5d-23d5-4b4d-bd65-ae0abc955842",
   "metadata": {},
   "outputs": [],
   "source": [
    "x_train.head()"
   ]
  },
  {
   "cell_type": "code",
   "execution_count": null,
   "id": "a2c4e04e-0245-4c59-9e9a-9ddcfc95f7c5",
   "metadata": {},
   "outputs": [],
   "source": [
    "y_train.head()"
   ]
  },
  {
   "cell_type": "code",
   "execution_count": null,
   "id": "4cf90245-f206-4f0b-b941-6de87b46fefa",
   "metadata": {},
   "outputs": [],
   "source": [
    "x_train = x_train.loc[:,['Sequence','tR1','Vinj','gradient']]\n",
    "x_train.info()"
   ]
  },
  {
   "cell_type": "markdown",
   "id": "52e8e874-7405-4710-b082-cd3362de02d3",
   "metadata": {},
   "source": [
    "## Gradient is encoded as category 1,2, 3"
   ]
  },
  {
   "cell_type": "code",
   "execution_count": null,
   "id": "ddaeb598-9bfb-462c-928e-4eb8aa1f7807",
   "metadata": {
    "tags": []
   },
   "outputs": [],
   "source": [
    "x_train.info()"
   ]
  },
  {
   "cell_type": "code",
   "execution_count": null,
   "id": "51f7bbbc-e2d9-4d77-ba3e-a85e1f496139",
   "metadata": {
    "tags": []
   },
   "outputs": [],
   "source": [
    "x_train[\"gradient\"] = x_train[\"gradient\"].astype('category')\n",
    "x_train.dtypes"
   ]
  },
  {
   "cell_type": "code",
   "execution_count": null,
   "id": "16e63da9-cff6-4f5b-b7e1-a9b4ced2ec0c",
   "metadata": {
    "tags": []
   },
   "outputs": [],
   "source": [
    "x_train[\"gradient_codes\"] = x_train[\"gradient\"].cat.codes\n",
    "x_train.head()"
   ]
  },
  {
   "cell_type": "code",
   "execution_count": null,
   "id": "91f8360a",
   "metadata": {
    "tags": []
   },
   "outputs": [],
   "source": [
    "x_train.head()"
   ]
  },
  {
   "cell_type": "code",
   "execution_count": null,
   "id": "8175a6b2-f16a-49dd-8386-8dbe20733ed5",
   "metadata": {
    "tags": []
   },
   "outputs": [],
   "source": [
    "x_train.info()"
   ]
  },
  {
   "cell_type": "code",
   "execution_count": null,
   "id": "a9126b1e-e0c6-4674-a8cf-6b21d646a52c",
   "metadata": {
    "tags": []
   },
   "outputs": [],
   "source": [
    "df_sequence_input = x_train[\"Sequence\"]\n",
    "df_sequence_input.shape"
   ]
  },
  {
   "cell_type": "code",
   "execution_count": null,
   "id": "672782bc-b987-4183-887f-34b76444a49a",
   "metadata": {
    "tags": []
   },
   "outputs": [],
   "source": [
    "sequence =[]\n",
    "for i,seq in enumerate (df_sequence_input):\n",
    "    sequence=np.append(sequence, seq)"
   ]
  },
  {
   "cell_type": "code",
   "execution_count": null,
   "id": "f173bfa2-dafd-4012-b022-77083e285282",
   "metadata": {
    "tags": []
   },
   "outputs": [],
   "source": [
    "pw_vec = y_train['width']\n",
    "pw_vec.shape"
   ]
  },
  {
   "cell_type": "code",
   "execution_count": null,
   "id": "ce852861-31ec-4dbf-8bda-091111457025",
   "metadata": {
    "tags": []
   },
   "outputs": [],
   "source": [
    "features = {}\n",
    "\n",
    "features['count'] = ['Fa', 'Ft', 'Fg', 'Fc', 'Length']\n",
    "features ['sulfurcount'] = ['Fsulf']\n",
    "#features['contact'] = prod('ATGC', repeat = 2)\n",
    "#features['scontact'] = [f\"{comb[0]}{comb[-1]}_{comb[-1]}{comb[0]}\" for comb in pair_comb('ATGC', 2)]\n",
    "features['position'] = ['first position', 'last position']\n",
    "\n",
    "featvec = ['count','sulfurcount','position']\n",
    "featcombinations = []\n",
    "\n",
    "for i in range(len(featvec)):\n",
    "    for c in list(combinations(featvec, i + 1)):\n",
    "        featcombinations.append(list(c))\n",
    "\n",
    "featvec"
   ]
  },
  {
   "cell_type": "code",
   "execution_count": null,
   "id": "b77faaff-e522-4ee5-96d2-d2b24f96867f",
   "metadata": {
    "tags": []
   },
   "outputs": [],
   "source": [
    "inputvec_train = encode_input(sequence, featvec)\n",
    "inputvec_train.head()"
   ]
  },
  {
   "cell_type": "code",
   "execution_count": null,
   "id": "cfef6105-ec72-4c4c-b795-38be1c40fd95",
   "metadata": {},
   "outputs": [],
   "source": [
    "inputvec_train[\"tR1\"] = x_train[\"tR1\"]\n",
    "inputvec_train[\"Vinj\"] = x_train[\"Vinj\"]\n",
    "inputvec_train[\"gradient_codes\"] = x_train[\"gradient_codes\"]"
   ]
  },
  {
   "cell_type": "code",
   "execution_count": null,
   "id": "e4811095-5c3d-40ba-92a9-4431b674fadf",
   "metadata": {},
   "outputs": [],
   "source": [
    "inputvec_train.info()"
   ]
  },
  {
   "cell_type": "code",
   "execution_count": null,
   "id": "4c051fcf-9d67-4c7a-b190-3f62f9e3ce36",
   "metadata": {},
   "outputs": [],
   "source": [
    "inputvec_train[\"First\"] = inputvec_train[\"First\"].astype('category')\n",
    "inputvec_train[\"Last\"] = inputvec_train[\"Last\"].astype('category')\n",
    "inputvec_train[\"First_codes\"] = inputvec_train[\"First\"].cat.codes\n",
    "inputvec_train[\"Last_codes\"] = inputvec_train[\"Last\"].cat.codes\n",
    "inputvec_train.info()"
   ]
  },
  {
   "cell_type": "code",
   "execution_count": null,
   "id": "d0c5118f-1c87-4134-952a-4705664efa7c",
   "metadata": {},
   "outputs": [],
   "source": [
    "cols = inputvec_train.select_dtypes(include=['object'])\n",
    "\n",
    "for col in  cols:\n",
    "    inputvec_train[col] = pd.to_numeric(inputvec_train[col], errors='coerce')\n",
    "\n",
    "inputvec_train.info()"
   ]
  },
  {
   "cell_type": "code",
   "execution_count": null,
   "id": "642b248f-a3cc-496a-b08b-257bc85750a3",
   "metadata": {},
   "outputs": [],
   "source": [
    "inputvec_train = inputvec_train.drop(['First', 'Last'], axis=1)\n",
    "inputvec_train.info()"
   ]
  },
  {
   "cell_type": "code",
   "execution_count": null,
   "id": "13d086c7-18c2-458e-9eed-669ba3c8f01d",
   "metadata": {
    "tags": []
   },
   "outputs": [],
   "source": [
    "print(isnullcolumns(inputvec_train))"
   ]
  },
  {
   "cell_type": "code",
   "execution_count": null,
   "id": "6d8dcaf4-4224-441f-be61-7ffa1a7f7eff",
   "metadata": {},
   "outputs": [],
   "source": [
    "x_test.info()"
   ]
  },
  {
   "cell_type": "code",
   "execution_count": null,
   "id": "f78d4a05-e8fa-4915-8e5f-96a22ba5af43",
   "metadata": {},
   "outputs": [],
   "source": [
    "#Apply same transformations for the test set\n",
    "#\"\"\"\"\"\"\"\"\"\"\"\"\"\"\"\"\"\"\"\"\"\"\"\"\"\"\"\"\"\"\"\"\"\"\"\"\"\"\"\"\"\"\"\n",
    "\n",
    "xtest = x_test.loc[:,['Sequence','tR1','Vinj','gradient']]\n",
    "xtest[\"gradient\"] = xtest[\"gradient\"].astype('category')\n",
    "xtest[\"gradient_codes\"] = xtest[\"gradient\"].cat.codes\n",
    "\n",
    "df_sequence_test = xtest[\"Sequence\"]\n",
    "df_sequence_test.shape\n",
    "sequence_ts =[]\n",
    "for i,seq in enumerate (df_sequence_test):\n",
    "    sequence_ts=np.append(sequence_ts, seq)\n",
    "#print(len(sequence_ts))\n",
    "\n",
    "ytest = y_test['width']\n",
    "#print (ytest.shape)\n",
    "\n",
    "inputvec_test = encode_input(sequence_ts, featvec)\n",
    "inputvec_test.head()\n",
    "inputvec_test[\"tR1\"] = xtest[\"tR1\"]\n",
    "inputvec_test[\"Vinj\"] = xtest[\"Vinj\"]\n",
    "inputvec_test[\"gradient_codes\"] = xtest[\"gradient_codes\"]\n",
    "\n",
    "#inputvec_test.info()\n",
    "\n",
    "inputvec_test[\"First\"] = inputvec_test[\"First\"].astype('category')\n",
    "inputvec_test[\"Last\"] = inputvec_test[\"Last\"].astype('category')\n",
    "inputvec_test[\"First_codes\"] = inputvec_test[\"First\"].cat.codes\n",
    "inputvec_test[\"Last_codes\"] = inputvec_test[\"Last\"].cat.codes\n",
    "\n",
    "cols = inputvec_test.select_dtypes(include=['object'])\n",
    "\n",
    "for col in  cols:\n",
    "    inputvec_test[col] = pd.to_numeric(inputvec_test[col], errors='coerce')\n",
    "\n",
    "inputvec_test = inputvec_test.drop(['First', 'Last'], axis=1)\n",
    "\n",
    "print(inputvec_test.info())\n",
    "print(isnullcolumns(inputvec_test))"
   ]
  },
  {
   "cell_type": "code",
   "execution_count": null,
   "id": "b30ea400-ea88-4bdf-8264-a71d5d9c82e8",
   "metadata": {},
   "outputs": [],
   "source": [
    "params = {\n",
    "            'max_depth': [2,4,6,8,10,20,50,100],\n",
    "            'learning_rate': [0.001, 0.01, 0.1, 1],\n",
    "            'n_estimators': [100, 200, 500, 1000],\n",
    "            'max_leaf_nodes': [2, 5, 10,20]\n",
    "        }"
   ]
  },
  {
   "cell_type": "code",
   "execution_count": null,
   "id": "a02659a6-871f-402b-9f3e-56f2359b4771",
   "metadata": {},
   "outputs": [],
   "source": [
    "start = time.time()\n",
    "\n",
    "model = GradientBoostingRegressor()\n",
    "            \n",
    "model.fit(inputvec_train, pw_vec)\n",
    "\n",
    "print(f'\\n --- %s seconds --- % {time.time() - start}')"
   ]
  },
  {
   "cell_type": "code",
   "execution_count": null,
   "id": "40a80501-8f9b-44c5-9703-28e1e006878f",
   "metadata": {
    "tags": []
   },
   "outputs": [],
   "source": [
    "acc_train = round(model.score(inputvec_train, pw_vec), 3)\n",
    "print(\"training r2\", acc_train)"
   ]
  },
  {
   "cell_type": "code",
   "execution_count": null,
   "id": "863fd637-e07f-4aa7-9c89-b3f35032328b",
   "metadata": {
    "tags": []
   },
   "outputs": [],
   "source": [
    "predtr = model.predict(inputvec_train)\n",
    "\n",
    "rmsetr = skl_me.mean_squared_error(pw_vec, predtr, squared = False)\n",
    "\n",
    "print (rmsetr)"
   ]
  },
  {
   "cell_type": "code",
   "execution_count": null,
   "id": "ebbedf22-53fe-49d4-9658-80654a534024",
   "metadata": {},
   "outputs": [],
   "source": [
    "ytest"
   ]
  },
  {
   "cell_type": "code",
   "execution_count": null,
   "id": "986c8cab-2d23-40a9-b7de-60c697951340",
   "metadata": {
    "tags": []
   },
   "outputs": [],
   "source": [
    "predts = model.predict(inputvec_test)\n",
    "\n",
    "rmse_ts = skl_me.mean_squared_error(ytest, predts, squared = False)\n",
    "\n",
    "r2_ts = r2_score(ytest, predts)\n",
    "\n",
    "print (f'Best Features GB hyperparameters - testing scores')\n",
    "print (f'---------------')\n",
    "print(f\"R2: %.3f\" % r2_ts)\n",
    "print (f\"RMSE: %.3f\" % rmse_ts)"
   ]
  },
  {
   "cell_type": "code",
   "execution_count": null,
   "id": "e5879d96-6190-4f3c-86a2-4fc03c4d4931",
   "metadata": {},
   "outputs": [],
   "source": [
    "print(\"the not hypertuned model\", model)"
   ]
  },
  {
   "cell_type": "code",
   "execution_count": null,
   "id": "c3b1fae6-a0fc-4885-ac02-3b9af8bbfae4",
   "metadata": {
    "tags": []
   },
   "outputs": [],
   "source": [
    "df_predicted = pd.DataFrame(data=predts)\n",
    "\n",
    "df_predicted = df_predicted.set_index(ytest.index)\n",
    "\n",
    "df_predicted.rename(columns={0: \"predicted\"}, inplace=True)\n",
    "df_error = pd.concat([ytest, df_predicted], axis=1)\n",
    "df_error.columns = [\"Y_observed\", \"Y_predicted\"]\n",
    "df_error.shape"
   ]
  },
  {
   "cell_type": "code",
   "execution_count": null,
   "id": "61cd5b7c-e45c-44d0-b9b0-cfd85a322f72",
   "metadata": {
    "tags": []
   },
   "outputs": [],
   "source": [
    "df_error[\"residuals\"] = df_error[\"Y_observed\"] - df_error[\"Y_predicted\"]\n",
    "df_error.head()"
   ]
  },
  {
   "cell_type": "code",
   "execution_count": null,
   "id": "440ffc2f-cd31-4f03-9f2a-da6dad160914",
   "metadata": {
    "tags": []
   },
   "outputs": [],
   "source": [
    "plt.figure(figsize=(12, 7))\n",
    "plt.hist(df_error[\"residuals\"], bins=15, color=\"teal\", edgecolor=\"grey\", linewidth=1.5, alpha=0.6)\n",
    "plt.axvline(0, color=\"white\", linestyle=\"dashed\", linewidth=2)\n",
    "plt.show()"
   ]
  },
  {
   "cell_type": "code",
   "execution_count": null,
   "id": "11667012-cf47-4ca7-92c8-b6472c596487",
   "metadata": {
    "tags": []
   },
   "outputs": [],
   "source": [
    "plt.figure(figsize=(10,8))\n",
    "#plt.scatter(test_tRvec, pred, c='#6495ED', s=14)\n",
    "\n",
    "#p1 = max(max(pred), max(test_tRvec))\n",
    "#p2 = min(min(pred), min(test_tRvec))\n",
    "plt.plot([0, 0.7], [0, 0.7], 'k-')\n",
    "\n",
    "plt.scatter(pw_vec, predtr, color = 'magenta')\n",
    "plt.scatter(ytest, predts, color = 'green', alpha=0.4)\n",
    "plt.xlabel(\"Observed peak width\", fontsize=14)\n",
    "plt.ylabel(\"Predicted peak width\", fontsize=14)\n",
    "plt.title(\"\\nThe scatter plot shows that GB is significantly underestimating peak width \\n especially with the G3 datapoints as seen in the error analysis\")\n",
    "plt.show()\n",
    "    \n",
    "#plt.plot([p1, p2], [p1, p2], 'k-')\n",
    "#plt.axis('equal')\n",
    "#plt.savefig('PW_G2_GB.pdf', format='pdf', dpi=1200, bbox_inches='tight')\n",
    "#plt.show()"
   ]
  },
  {
   "cell_type": "code",
   "execution_count": null,
   "id": "37f5ff3f",
   "metadata": {
    "tags": []
   },
   "outputs": [],
   "source": [
    "from matplotlib import pyplot\n",
    "\n",
    "plt.figure(figsize=(8, 6))\n",
    "\n",
    "bins = np.linspace(0, 0.8, 100)\n",
    "\n",
    "pyplot.hist(pw_vec, bins, alpha=0.6, color=\"blue\", edgecolor=\"white\")\n",
    "plt.savefig('PWDistribution.pdf', format='pdf', dpi=1200, bbox_inches='tight')\n",
    "pyplot.show()"
   ]
  },
  {
   "cell_type": "code",
   "execution_count": null,
   "id": "e1ba71a3-aef3-4018-9026-0f1bced0bcd8",
   "metadata": {
    "tags": []
   },
   "outputs": [],
   "source": [
    "pd.options.display.max_rows = 500\n",
    "df_error.sort_values('residuals').head(20)"
   ]
  },
  {
   "cell_type": "code",
   "execution_count": null,
   "id": "4b2be3bf-ab60-4869-b4bd-f51ce523d633",
   "metadata": {
    "tags": []
   },
   "outputs": [],
   "source": [
    "xtest.iloc[[158, 293, 52,327,96,451,335,414,120,120,97,315,147,421,134,277,371,464,196,31,129]]"
   ]
  },
  {
   "cell_type": "code",
   "execution_count": null,
   "id": "96b4b7e2-eafd-499e-8c57-8929cce251f9",
   "metadata": {
    "tags": []
   },
   "outputs": [],
   "source": [
    "xtest"
   ]
  },
  {
   "cell_type": "markdown",
   "id": "eb7e7189-020e-4227-92f1-2e05fb4422ed",
   "metadata": {},
   "source": [
    "## Gradient is Float 11., 22. , 44."
   ]
  },
  {
   "cell_type": "code",
   "execution_count": null,
   "id": "0a470059-8d5b-4df3-8c43-efb601204df1",
   "metadata": {},
   "outputs": [],
   "source": [
    "x_train['gradient'].replace(to_replace = 'G1', value =11., inplace=True)\n",
    "x_train['gradient'].replace(to_replace = 'G2', value =22., inplace=True)\n",
    "x_train['gradient'].replace(to_replace = 'G3', value =44., inplace=True)"
   ]
  },
  {
   "cell_type": "code",
   "execution_count": null,
   "id": "99350479-9861-4c1d-a4b2-1912f643074f",
   "metadata": {},
   "outputs": [],
   "source": [
    "x_train.head()"
   ]
  },
  {
   "cell_type": "code",
   "execution_count": null,
   "id": "9995cc6b-d3c4-4746-b7c8-a4e2c6a7ee10",
   "metadata": {},
   "outputs": [],
   "source": [
    "x_train.info()"
   ]
  },
  {
   "cell_type": "code",
   "execution_count": null,
   "id": "cea8b15e-663a-4254-bf78-2b604f83df44",
   "metadata": {},
   "outputs": [],
   "source": []
  },
  {
   "cell_type": "code",
   "execution_count": null,
   "id": "9addc751-5864-43b7-ba79-4f65e47dceac",
   "metadata": {},
   "outputs": [],
   "source": [
    "df_sequence_input = x_train[\"Sequence\"]\n",
    "\n",
    "df_sequence_input.shape\n",
    "\n",
    "sequence =[]\n",
    "for i,seq in enumerate (df_sequence_input):\n",
    "    sequence=np.append(sequence, seq)\n",
    "    \n",
    "sequence.shape"
   ]
  },
  {
   "cell_type": "code",
   "execution_count": null,
   "id": "039a011c-4bac-4f7c-86c4-61985736f52a",
   "metadata": {},
   "outputs": [],
   "source": [
    "pw_vec = y_train['width']\n",
    "pw_vec.shape"
   ]
  },
  {
   "cell_type": "code",
   "execution_count": null,
   "id": "2b987ddb-cacc-4f1c-900c-a3f336ea95b1",
   "metadata": {},
   "outputs": [],
   "source": [
    "features = {}\n",
    "\n",
    "features['count'] = ['Fa', 'Ft', 'Fg', 'Fc', 'Length']\n",
    "features ['sulfurcount'] = ['Fsulf']\n",
    "#features['contact'] = prod('ATGC', repeat = 2)\n",
    "#features['scontact'] = [f\"{comb[0]}{comb[-1]}_{comb[-1]}{comb[0]}\" for comb in pair_comb('ATGC', 2)]\n",
    "features['position'] = ['first position', 'last position']\n",
    "\n",
    "featvec = ['count','sulfurcount','position']\n",
    "featcombinations = []\n",
    "\n",
    "for i in range(len(featvec)):\n",
    "    for c in list(combinations(featvec, i + 1)):\n",
    "        featcombinations.append(list(c))\n",
    "\n",
    "featvec"
   ]
  },
  {
   "cell_type": "code",
   "execution_count": null,
   "id": "c069cecd-c0f3-4fa6-a756-7669dd51e494",
   "metadata": {},
   "outputs": [],
   "source": [
    "input_train = encode_input(sequence, featvec)\n",
    "input_train.head()"
   ]
  },
  {
   "cell_type": "code",
   "execution_count": null,
   "id": "6ef2e4fd-7e01-456d-950f-3eb52e03a503",
   "metadata": {},
   "outputs": [],
   "source": [
    "input_train[\"tR1\"] = x_train[\"tR1\"]\n",
    "input_train[\"Vinj\"] = x_train[\"Vinj\"]\n",
    "input_train[\"gradient\"] = x_train[\"gradient\"]\n",
    "input_train.head(10)"
   ]
  },
  {
   "cell_type": "code",
   "execution_count": null,
   "id": "e9b58dd8-f3ea-4581-97b0-6a492bb4e829",
   "metadata": {},
   "outputs": [],
   "source": [
    "input_train.info()"
   ]
  },
  {
   "cell_type": "code",
   "execution_count": null,
   "id": "f2b97b1f-4b5e-46c0-9644-a3a0be4746d3",
   "metadata": {},
   "outputs": [],
   "source": [
    "input_train[\"First\"] = input_train[\"First\"].astype('category')\n",
    "input_train[\"Last\"] = input_train[\"Last\"].astype('category')\n",
    "input_train[\"First_codes\"] = input_train[\"First\"].cat.codes\n",
    "input_train[\"Last_codes\"] = input_train[\"Last\"].cat.codes\n",
    "input_train.info()"
   ]
  },
  {
   "cell_type": "code",
   "execution_count": null,
   "id": "0f6d29a6-eda6-4ac0-9afd-5f8180830937",
   "metadata": {},
   "outputs": [],
   "source": [
    "input_train['gradient'] = input_train[\"gradient\"].astype('object')"
   ]
  },
  {
   "cell_type": "code",
   "execution_count": null,
   "id": "a27c6876-ad1c-40df-9cab-120ddbaabdf2",
   "metadata": {},
   "outputs": [],
   "source": [
    "cols = input_train.select_dtypes(include=['object'])\n",
    "\n",
    "for col in  cols:\n",
    "    print (col)\n",
    "    input_train[col] = pd.to_numeric(input_train[col], errors='coerce')\n",
    "\n",
    "input_train.info()"
   ]
  },
  {
   "cell_type": "code",
   "execution_count": null,
   "id": "14b0eb7a-dfeb-41e5-9873-0ab67ad0598a",
   "metadata": {},
   "outputs": [],
   "source": [
    "input_train = input_train.drop(['First', 'Last'], axis=1)\n",
    "input_train.info()"
   ]
  },
  {
   "cell_type": "code",
   "execution_count": null,
   "id": "480f1f08-379a-497b-9504-a0c71d58e898",
   "metadata": {},
   "outputs": [],
   "source": [
    "print(isnullcolumns(input_train))"
   ]
  },
  {
   "cell_type": "code",
   "execution_count": null,
   "id": "6ca70406-a989-4a21-8059-3897ecddbdb2",
   "metadata": {},
   "outputs": [],
   "source": [
    "input_train.info()"
   ]
  },
  {
   "cell_type": "code",
   "execution_count": null,
   "id": "72316adc-5f01-45ab-ac33-584d40aab88d",
   "metadata": {},
   "outputs": [],
   "source": [
    "xtest.info()"
   ]
  },
  {
   "cell_type": "code",
   "execution_count": null,
   "id": "e2db2332-f3d0-4eca-9ba1-93b450c3175d",
   "metadata": {},
   "outputs": [],
   "source": [
    "#Apply same transformations for the test set\n",
    "#\"\"\"\"\"\"\"\"\"\"\"\"\"\"\"\"\"\"\"\"\"\"\"\"\"\"\"\"\"\"\"\"\"\"\"\"\"\"\"\"\"\"\"\n",
    "\n",
    "xtest = x_test.loc[:,['Sequence','tR1','Vinj','gradient']]\n",
    "xtest['gradient'].replace(to_replace = 'G1', value =11., inplace=True)\n",
    "xtest['gradient'].replace(to_replace = 'G2', value =22., inplace=True)\n",
    "xtest['gradient'].replace(to_replace = 'G3', value =44., inplace=True)\n",
    "\n",
    "df_sequence_test = xtest[\"Sequence\"]\n",
    "df_sequence_test.shape\n",
    "sequence_ts =[]\n",
    "for i,seq in enumerate (df_sequence_test):\n",
    "    sequence_ts=np.append(sequence_ts, seq)\n",
    "#print(len(sequence_ts))\n",
    "\n",
    "ytest = y_test['width']\n",
    "#print (ytest.shape)\n",
    "\n",
    "input_test = encode_input(sequence_ts, featvec)\n",
    "input_test.head()\n",
    "input_test[\"tR1\"] = xtest[\"tR1\"]\n",
    "input_test[\"Vinj\"] = xtest[\"Vinj\"]\n",
    "input_test[\"gradient\"] = xtest[\"gradient\"]\n",
    "\n",
    "#inputvec_test.info()\n",
    "\n",
    "input_test[\"First\"] = input_test[\"First\"].astype('category')\n",
    "input_test[\"Last\"] = input_test[\"Last\"].astype('category')\n",
    "input_test[\"First_codes\"] = input_test[\"First\"].cat.codes\n",
    "input_test[\"Last_codes\"] = input_test[\"Last\"].cat.codes\n",
    "\n",
    "cols = input_test.select_dtypes(include=['object'])\n",
    "\n",
    "for col in  cols:\n",
    "    input_test[col] = pd.to_numeric(input_test[col], errors='coerce')\n",
    "\n",
    "input_test = input_test.drop(['First', 'Last'], axis=1)\n",
    "\n",
    "print(input_test.info())\n",
    "\n",
    "print(isnullcolumns(input_test))"
   ]
  },
  {
   "cell_type": "code",
   "execution_count": null,
   "id": "e8855c38-44a1-4576-bf93-6431b6c96e46",
   "metadata": {},
   "outputs": [],
   "source": [
    "start = time.time()\n",
    "\n",
    "model1 = GradientBoostingRegressor()\n",
    "            \n",
    "model1.fit(input_train, pw_vec)\n",
    "\n",
    "print(f'\\n --- %s seconds --- % {time.time() - start}')"
   ]
  },
  {
   "cell_type": "code",
   "execution_count": null,
   "id": "21368af1-48bb-4bb8-b819-67c2fb098aff",
   "metadata": {},
   "outputs": [],
   "source": [
    "acc_train1 = round(model1.score(input_train, pw_vec), 3)\n",
    "print(\"training r2\", acc_train1)"
   ]
  },
  {
   "cell_type": "code",
   "execution_count": null,
   "id": "b265a0ad-7694-4141-9ea2-68ce4e179faf",
   "metadata": {},
   "outputs": [],
   "source": [
    "predtr1 = model1.predict(input_train)\n",
    "\n",
    "rmsetr1 = skl_me.mean_squared_error(pw_vec, predtr1, squared = False)\n",
    "\n",
    "print (rmsetr1)"
   ]
  },
  {
   "cell_type": "code",
   "execution_count": null,
   "id": "63231d66-6e43-4342-953d-7deca3235015",
   "metadata": {},
   "outputs": [],
   "source": [
    "predts1 = model1.predict(input_test)\n",
    "\n",
    "rmse_ts1 = skl_me.mean_squared_error(ytest, predts1, squared = False)\n",
    "\n",
    "r2_ts1 = r2_score(ytest, predts1)\n",
    "\n",
    "print (f'Best Features GB hyperparameters - testing scores')\n",
    "print (f'---------------')\n",
    "print(f\"R2: %.3f\" % r2_ts1)\n",
    "print (f\"RMSE: %.3f\" % rmse_ts1)"
   ]
  },
  {
   "cell_type": "code",
   "execution_count": null,
   "id": "7868ed1b-7533-4c48-9614-56bc7d1f141c",
   "metadata": {},
   "outputs": [],
   "source": [
    "plt.figure(figsize=(10,8))\n",
    "#plt.scatter(test_tRvec, pred, c='#6495ED', s=14)\n",
    "\n",
    "#p1 = max(max(pred), max(test_tRvec))\n",
    "#p2 = min(min(pred), min(test_tRvec))\n",
    "#plt.plot([0, 0.7], [0, 0.7], 'k-')\n",
    "\n",
    "plt.scatter(pw_vec, predtr1, color = 'magenta')\n",
    "plt.scatter(ytest, predts1, color = 'green', alpha=0.4)\n",
    "plt.xlabel(\"Observed peak width\", fontsize=14)\n",
    "plt.ylabel(\"Predicted peak width\", fontsize=14)\n",
    "plt.title(\"\\nThe scatter plot shows that GB is significantly underestimating peak width\")\n",
    "plt.show()\n",
    "    \n",
    "#plt.plot([p1, p2], [p1, p2], 'k-')\n",
    "#plt.axis('equal')\n",
    "#plt.savefig('PW_G2_GB.pdf', format='pdf', dpi=1200, bbox_inches='tight')"
   ]
  },
  {
   "cell_type": "markdown",
   "id": "97281794-0b3b-4e7d-a677-434158222853",
   "metadata": {},
   "source": [
    "### Testing random search"
   ]
  },
  {
   "cell_type": "code",
   "execution_count": null,
   "id": "7be10a74-9e5d-45b3-8c67-5a4f00f53b70",
   "metadata": {
    "tags": []
   },
   "outputs": [],
   "source": [
    "from sklearn.model_selection import RandomizedSearchCV\n",
    "\n",
    "randomsearch = RandomizedSearchCV(\n",
    "    estimator=model3,\n",
    "    param_distributions=param_grid,\n",
    "    scoring = ['neg_root_mean_squared_error'], \n",
    "    refit = 'neg_root_mean_squared_error',\n",
    "    cv=5,\n",
    "    n_jobs=-1,\n",
    "    verbose=2,\n",
    "    n_iter=100)\n",
    "\n",
    "# perform hyperparamter tuning (while timing the process)\n",
    "time_start = time.time()\n",
    "randomsearch.fit(input_train, pw_vec)\n",
    "time_random = time.time() - time_start\n",
    "\n",
    "# store result in a data frame \n",
    "grid_values = [[100, randomsearch.best_index_+1, randomsearch.best_score_, time_random]]\n",
    "results_random = pd.DataFrame(grid_values, columns = columns)"
   ]
  },
  {
   "cell_type": "code",
   "execution_count": null,
   "id": "24ecae24-9c35-4d1b-8a73-b0b9d176e89a",
   "metadata": {},
   "outputs": [],
   "source": [
    "summary = results_grid.append(results_random)\n",
    "summary.index = ['Random Search']\n",
    "summary"
   ]
  },
  {
   "cell_type": "code",
   "execution_count": null,
   "id": "1423e73b-ae97-4676-9bac-bec7af52f029",
   "metadata": {},
   "outputs": [],
   "source": [
    "#Random Search best estimator\n",
    "best_random = randomsearch.best_estimator_\n",
    "best_random"
   ]
  },
  {
   "cell_type": "code",
   "execution_count": null,
   "id": "734e8ba8-0fb5-4298-8d7b-92ffc08d65a5",
   "metadata": {},
   "outputs": [],
   "source": [
    "acc_tr_grid = round(best_grid.score(input_train, pw_vec), 3)\n",
    "print(\"grid search training r2\", acc_tr_grid)"
   ]
  },
  {
   "cell_type": "code",
   "execution_count": null,
   "id": "b94832c0-0d32-4e88-99bc-c579146a5b2b",
   "metadata": {},
   "outputs": [],
   "source": [
    "predtr_grid = best_grid.predict(input_train)\n",
    "\n",
    "rmse_tr_grid = skl_me.mean_squared_error(pw_vec, predtr_grid, squared = False)\n",
    "print (f\"Grid search rmse: %.3f\" % rmse_tr_grid)"
   ]
  },
  {
   "cell_type": "code",
   "execution_count": null,
   "id": "6f36fa21-7f3d-4c61-ac8b-7735a7ee42fe",
   "metadata": {},
   "outputs": [],
   "source": [
    "predts_grid = best_grid.predict(input_test)\n",
    "\n",
    "rmse_ts_grid = skl_me.mean_squared_error(ytest, predts_grid, squared = False)\n",
    "\n",
    "r2_ts_grid = r2_score(ytest, predts_grid)\n",
    "\n",
    "print (f'Grid search Optmized GB - testing scores')\n",
    "print (f'---------------')\n",
    "print(f\"R2: %.3f\" % r2_ts_grid)\n",
    "print (f\"RMSE: %.3f\" % rmse_ts_grid)"
   ]
  },
  {
   "cell_type": "code",
   "execution_count": null,
   "id": "75339e0a-f965-41a9-8ebb-da4b5dfdc473",
   "metadata": {},
   "outputs": [],
   "source": [
    "plt.figure(figsize=(10,8))\n",
    "plt.scatter(pw_vec, predtr_grid, color = 'magenta')\n",
    "plt.scatter(ytest, predts_grid, color = 'green', alpha=0.4)\n",
    "plt.xlabel(\"Observed peak width\", fontsize=14)\n",
    "plt.ylabel(\"Predicted peak width\", fontsize=14)\n",
    "plt.title(\"\\n Grid Search \")\n",
    "plt.show()\n",
    "    \n",
    "#plt.plot([p1, p2], [p1, p2], 'k-')\n",
    "#plt.axis('equal')\n",
    "#plt.savefig('PW_G2_GB.pdf', format='pdf', dpi=1200, bbox_inches='tight')"
   ]
  },
  {
   "cell_type": "markdown",
   "id": "bc36c127-6abe-4e22-93a5-9053078a3b21",
   "metadata": {},
   "source": [
    "## Random Search"
   ]
  },
  {
   "cell_type": "code",
   "execution_count": null,
   "id": "bfbf53bf-04ef-4134-9573-23b2cd848d28",
   "metadata": {},
   "outputs": [],
   "source": [
    "acc_tr_rand = round(best_random.score(input_train, pw_vec), 3)\n",
    "print(\"random search training r2\", acc_tr_rand)"
   ]
  },
  {
   "cell_type": "code",
   "execution_count": null,
   "id": "5bb6e35c-7970-4546-b810-416e2698d110",
   "metadata": {},
   "outputs": [],
   "source": [
    "predtr_rand = best_random.predict(input_train)\n",
    "\n",
    "rmse_tr_rand = skl_me.mean_squared_error(pw_vec, predtr_rand, squared = False)\n",
    "print (f\"Grid search rmse: %.3f\" % rmse_tr_rand)"
   ]
  },
  {
   "cell_type": "code",
   "execution_count": null,
   "id": "3858ad49-5425-45a6-acdf-37f86dd14cec",
   "metadata": {},
   "outputs": [],
   "source": [
    "predts_rand = best_random.predict(input_test)\n",
    "\n",
    "rmse_ts_rand = skl_me.mean_squared_error(ytest, predts_rand, squared = False)\n",
    "\n",
    "r2_ts_rand = r2_score(ytest, predts_rand)\n",
    "\n",
    "print (f'Random search Optmized GB - testing scores')\n",
    "print (f'---------------')\n",
    "print(f\"R2: %.3f\" % r2_ts_rand)\n",
    "print (f\"RMSE: %.3f\" % rmse_ts_rand)"
   ]
  },
  {
   "cell_type": "code",
   "execution_count": null,
   "id": "387bcafc-8fb0-48c6-867d-3a474f56b093",
   "metadata": {},
   "outputs": [],
   "source": [
    "best_random"
   ]
  },
  {
   "cell_type": "code",
   "execution_count": null,
   "id": "72ffa6f0-bcc2-4473-9bce-9f1c8ecca26e",
   "metadata": {},
   "outputs": [],
   "source": [
    "plt.figure(figsize=(10,8))\n",
    "#plt.scatter(test_tRvec, pred, c='#6495ED', s=14)\n",
    "\n",
    "#p1 = max(max(pred), max(test_tRvec))\n",
    "#p2 = min(min(pred), min(test_tRvec))\n",
    "#plt.plot([0, 0.7], [0, 0.7], 'k-')\n",
    "\n",
    "plt.scatter(pw_vec, predtr_rand, color = 'magenta')\n",
    "plt.scatter(ytest, predts_rand, color = 'green', alpha=0.4)\n",
    "plt.xlabel(\"Observed peak width\", fontsize=14)\n",
    "plt.ylabel(\"Predicted peak width\", fontsize=14)\n",
    "plt.title(\"\\n Random Search \")\n",
    "plt.show()\n",
    "    \n",
    "#plt.plot([p1, p2], [p1, p2], 'k-')\n",
    "#plt.axis('equal')\n",
    "#plt.savefig('PW_G2_GB.pdf', format='pdf', dpi=1200, bbox_inches='tight')"
   ]
  },
  {
   "cell_type": "markdown",
   "id": "9eeeeb79-53e2-49e0-80b1-b8ba2b81b1e1",
   "metadata": {},
   "source": [
    "## Save results of random search into text file"
   ]
  },
  {
   "cell_type": "code",
   "execution_count": null,
   "id": "97f3faeb-6ef8-45ad-88b8-7f9e3fb57882",
   "metadata": {},
   "outputs": [],
   "source": [
    "x_train.head()"
   ]
  },
  {
   "cell_type": "code",
   "execution_count": null,
   "id": "f7a8eee2-2b77-4af1-9eb0-dbf7aadaad3d",
   "metadata": {},
   "outputs": [],
   "source": [
    "x_test.head()"
   ]
  },
  {
   "cell_type": "code",
   "execution_count": null,
   "id": "bd1b0731-95d6-470f-b970-cad6ef228dfe",
   "metadata": {},
   "outputs": [],
   "source": [
    "df_train =pd.DataFrame()\n",
    "df_train['Sequence'] = x_train['Sequence']\n",
    "df_train['gradient'] = x_train['gradient']\n",
    "df_train['ytrain'] = np.array(pw_vec)\n",
    "df_train['tr_predicted'] = np.array(predtr_rand)\n",
    "df_train.info()"
   ]
  },
  {
   "cell_type": "code",
   "execution_count": null,
   "id": "e3c0bf1b-69ce-40d0-a140-78c605da3ceb",
   "metadata": {},
   "outputs": [],
   "source": [
    "x_test['gradient'].replace(to_replace = 'G1', value =11., inplace=True)\n",
    "x_test['gradient'].replace(to_replace = 'G2', value =22., inplace=True)\n",
    "x_test['gradient'].replace(to_replace = 'G3', value =44., inplace=True)"
   ]
  },
  {
   "cell_type": "code",
   "execution_count": null,
   "id": "9265d705-3502-4434-9c2c-1b7c928e9a34",
   "metadata": {},
   "outputs": [],
   "source": [
    "df_test =pd.DataFrame()\n",
    "df_test['Sequence'] = x_test['Sequence']\n",
    "df_test['gradient'] = x_test['gradient']\n",
    "df_test['ytest'] = np.array(ytest)\n",
    "df_test['ts_predicted'] = np.array(predts_rand)\n",
    "df_test.info()"
   ]
  },
  {
   "cell_type": "code",
   "execution_count": null,
   "id": "8e1c8a19-8244-4fbc-ba6e-d41413d42460",
   "metadata": {},
   "outputs": [],
   "source": [
    "path = r'train_data_Seq.txt'\n",
    "with open(path, 'a') as f:\n",
    "    df_train = df_train.to_string()\n",
    "    f.write(df_train)"
   ]
  },
  {
   "cell_type": "code",
   "execution_count": null,
   "id": "9fba8002-e392-4ca6-9676-53afcdce908e",
   "metadata": {},
   "outputs": [],
   "source": [
    "path = r'test_data_Seq.txt'\n",
    "with open(path, 'a') as f:\n",
    "    df_test = df_test.to_string()\n",
    "    f.write(df_test)"
   ]
  },
  {
   "cell_type": "code",
   "execution_count": null,
   "id": "5a975d4b-3b34-4b9c-adee-ad23bd86ca1c",
   "metadata": {},
   "outputs": [],
   "source": [
    "df_train =pd.DataFrame()\n",
    "df_train['ytrain'] = np.array(pw_vec)\n",
    "df_train['tr_predicted'] = np.array(predtr_rand)\n",
    "df_test =pd.DataFrame()\n",
    "df_test['ytest'] = np.array(ytest)\n",
    "df_test['ts_predicted'] = np.array(predts_rand)"
   ]
  },
  {
   "cell_type": "code",
   "execution_count": null,
   "id": "b0206b44-6529-43ab-8d5f-3e2db4f947cd",
   "metadata": {},
   "outputs": [],
   "source": [
    "path = r'train_data.txt'\n",
    "with open(path, 'a') as f:\n",
    "    df_train = df_train.to_string()\n",
    "    f.write(df_train)"
   ]
  },
  {
   "cell_type": "code",
   "execution_count": null,
   "id": "4560dfcd-4fb6-4cf4-8f8d-f8bcbe98aeda",
   "metadata": {},
   "outputs": [],
   "source": [
    "path = r'test_data.txt'\n",
    "with open(path, 'a') as f:\n",
    "    df_test = df_test.to_string()\n",
    "    f.write(df_test)"
   ]
  }
 ],
 "metadata": {
  "kernelspec": {
   "display_name": "Python 3 (ipykernel)",
   "language": "python",
   "name": "python3"
  },
  "language_info": {
   "codemirror_mode": {
    "name": "ipython",
    "version": 3
   },
   "file_extension": ".py",
   "mimetype": "text/x-python",
   "name": "python",
   "nbconvert_exporter": "python",
   "pygments_lexer": "ipython3",
   "version": "3.11.5"
  }
 },
 "nbformat": 4,
 "nbformat_minor": 5
}
