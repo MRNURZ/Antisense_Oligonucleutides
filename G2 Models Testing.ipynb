{
 "cells": [
  {
   "cell_type": "markdown",
   "id": "7437abf0",
   "metadata": {},
   "source": [
    "@author: Manal Rahal - 3 Nov 2022 <br>\n",
    "@title: Models testing on the big dataset"
   ]
  },
  {
   "cell_type": "code",
   "execution_count": null,
   "id": "3d1506f7",
   "metadata": {
    "tags": []
   },
   "outputs": [],
   "source": [
    "! pip install seqfold"
   ]
  },
  {
   "cell_type": "code",
   "execution_count": null,
   "id": "74cc6e92",
   "metadata": {},
   "outputs": [],
   "source": [
    "import os\n",
    "mydir = os.getcwd() # would be the MAIN folder\n",
    "mydir"
   ]
  },
  {
   "cell_type": "code",
   "execution_count": null,
   "id": "0a2be47e",
   "metadata": {},
   "outputs": [],
   "source": [
    "! python Encode_funcs_test.py"
   ]
  },
  {
   "cell_type": "code",
   "execution_count": null,
   "id": "fdb2f950",
   "metadata": {},
   "outputs": [],
   "source": [
    "import numpy as np\n",
    "import pandas as pd\n",
    "import os\n",
    "import time\n",
    "from datetime import datetime\n",
    "from itertools import product, combinations\n",
    "import sklearn.model_selection as skl_ms\n",
    "import sklearn.metrics as skl_me\n",
    "from sklearn.ensemble import GradientBoostingRegressor\n",
    "from sklearn.ensemble import RandomForestRegressor\n",
    "from sklearn.tree import DecisionTreeRegressor\n",
    "import sklearn.svm as svm\n",
    "import matplotlib.pyplot as plt \n",
    "from sklearn import preprocessing\n",
    "import math\n",
    "from sklearn.model_selection import train_test_split\n",
    "from sklearn.metrics import mean_squared_error, make_scorer, r2_score\n",
    "import matplotlib.pyplot as plt\n",
    "from sklearn.model_selection import GridSearchCV\n",
    "from sklearn.model_selection import KFold\n",
    "from sklearn import preprocessing\n",
    "import pickle"
   ]
  },
  {
   "cell_type": "code",
   "execution_count": null,
   "id": "ee262ee4",
   "metadata": {},
   "outputs": [],
   "source": [
    "import Encode_funcs_test\n",
    "from Encode_funcs_test import *\n",
    "from Encode_funcs_test import encode_input"
   ]
  },
  {
   "cell_type": "code",
   "execution_count": null,
   "id": "66ac50ce",
   "metadata": {},
   "outputs": [],
   "source": [
    "import supporting_funcs\n",
    "from supporting_funcs import get_null_percentage, isnullcolumns, isinfinitecolumns, find_outliers_IQR, generate_ID\n",
    "from supporting_funcs import draw_scatter, is_lost_sulfur, count_sulfur, return_phosphated_seq, is_phosphated, percentage_phosphated"
   ]
  },
  {
   "cell_type": "code",
   "execution_count": null,
   "id": "cb4907b3",
   "metadata": {},
   "outputs": [],
   "source": [
    "! python supporting_funcs.py"
   ]
  },
  {
   "cell_type": "markdown",
   "id": "f1183cbb-3985-44ab-82c8-5e67a63023f4",
   "metadata": {
    "tags": []
   },
   "source": [
    "# Loading duplicates"
   ]
  },
  {
   "cell_type": "code",
   "execution_count": null,
   "id": "4da2e8a0-6b3c-478a-bacd-b72617c528cc",
   "metadata": {
    "jupyter": {
     "source_hidden": true
    },
    "tags": []
   },
   "outputs": [],
   "source": [
    "#dups1 = pd.read_excel('G1_duplicates.xlsx')\n",
    "#dups2 =pd.read_excel('G2_duplicates.xlsx')\n",
    "#dups3 =pd.read_excel('G3_duplicates.xlsx')"
   ]
  },
  {
   "cell_type": "code",
   "execution_count": null,
   "id": "1f1bc541-2c04-49ac-9803-e89e8845a23f",
   "metadata": {
    "jupyter": {
     "source_hidden": true
    },
    "tags": []
   },
   "outputs": [],
   "source": [
    "#dups1 = dups1['Sequence']\n",
    "#dups2 = dups2['Sequence']\n",
    "#dups3 = dups3['Sequence']"
   ]
  },
  {
   "cell_type": "code",
   "execution_count": null,
   "id": "c9202ea7-a7dc-43e3-bb47-34f7803becf3",
   "metadata": {
    "jupyter": {
     "source_hidden": true
    },
    "tags": []
   },
   "outputs": [],
   "source": [
    "#dups2"
   ]
  },
  {
   "cell_type": "markdown",
   "id": "c57968e4",
   "metadata": {
    "tags": []
   },
   "source": [
    "## **Loading and Encoding Retention Time Dataset**"
   ]
  },
  {
   "cell_type": "code",
   "execution_count": null,
   "id": "06ba9b53",
   "metadata": {},
   "outputs": [],
   "source": [
    "#__Loading data from excel file, each gradient is in a sheet\n",
    "\n",
    "xls = pd.ExcelFile('../data/oligodata121022.xlsx')"
   ]
  },
  {
   "cell_type": "code",
   "execution_count": null,
   "id": "07fce025",
   "metadata": {},
   "outputs": [],
   "source": [
    "oligo_G22 =pd.read_excel(xls, sheet_name='22min gradient')"
   ]
  },
  {
   "cell_type": "code",
   "execution_count": null,
   "id": "ee39ea6a",
   "metadata": {},
   "outputs": [],
   "source": [
    "oligo_G22.info()"
   ]
  },
  {
   "cell_type": "code",
   "execution_count": null,
   "id": "f286cc87-589e-4edc-8e7a-befad1a1816a",
   "metadata": {},
   "outputs": [],
   "source": [
    "oligo_G22['Vinj'].unique()"
   ]
  },
  {
   "cell_type": "code",
   "execution_count": null,
   "id": "2ba8a460-1c2b-4cbb-9f0f-89fe89fcd978",
   "metadata": {},
   "outputs": [],
   "source": [
    "oligo_G22[oligo_G22['Vinj'] == 25].count()\n",
    "\n",
    "#0.5 = 222\n",
    "#1 = 3\n",
    "#3 = 225\n",
    "#15 = 166\n",
    "#20 = 30\n",
    "#25 = 240"
   ]
  },
  {
   "cell_type": "markdown",
   "id": "b85392be",
   "metadata": {},
   "source": [
    "## ---> Checking null and infinite values"
   ]
  },
  {
   "cell_type": "code",
   "execution_count": null,
   "id": "4b923b04",
   "metadata": {},
   "outputs": [],
   "source": [
    "oligo_G22.info()"
   ]
  },
  {
   "cell_type": "code",
   "execution_count": null,
   "id": "6aced22a",
   "metadata": {},
   "outputs": [],
   "source": [
    "oligo_G22 = oligo_G22.dropna(subset=['tR1'], how='all')"
   ]
  },
  {
   "cell_type": "code",
   "execution_count": null,
   "id": "2264d727",
   "metadata": {},
   "outputs": [],
   "source": [
    "oligo_G22.describe() #10 values in tR1 are missing, I decided not to replace them with tR2 values given that the quality of tR2 data is not of high quality"
   ]
  },
  {
   "cell_type": "markdown",
   "id": "77b27939-5ab9-4821-81ea-d49a82fc4add",
   "metadata": {},
   "source": [
    "## Checking duplicates"
   ]
  },
  {
   "cell_type": "code",
   "execution_count": null,
   "id": "8d34a061-d598-4bc8-96c2-ad240f3700c1",
   "metadata": {},
   "outputs": [],
   "source": [
    "pd.set_option('display.max_rows', 500)\n",
    "\n",
    "duplicates = oligo_G22[oligo_G22.duplicated(subset=['Sequence','Vinj'],keep='first')]\n",
    " \n",
    "print(\"Duplicate Rows :\")\n",
    " \n",
    "duplicates "
   ]
  },
  {
   "cell_type": "code",
   "execution_count": null,
   "id": "d3b53056-ac65-4c09-8f05-270184204f52",
   "metadata": {},
   "outputs": [],
   "source": [
    "duplicates = duplicates['Sequence']"
   ]
  },
  {
   "cell_type": "code",
   "execution_count": null,
   "id": "28682657-5c35-46d3-98a9-c523138dad1c",
   "metadata": {},
   "outputs": [],
   "source": [
    "oligo_G22_clean = oligo_G22[~oligo_G22['Sequence'].isin(duplicates)]\n",
    "oligo_G22_clean.shape"
   ]
  },
  {
   "cell_type": "code",
   "execution_count": null,
   "id": "12680ecf-100c-415e-8e98-dff2fe0ba80d",
   "metadata": {},
   "outputs": [],
   "source": [
    "oligo_G22_clean = oligo_G22_clean.dropna(subset=['tR1'], how='all')"
   ]
  },
  {
   "cell_type": "code",
   "execution_count": null,
   "id": "d583dfca",
   "metadata": {},
   "outputs": [],
   "source": [
    "input_data = oligo_G22_clean.loc[:,['Sequence', 'Vinj']]\n",
    "print(input_data.shape)\n",
    "input_data.head()"
   ]
  },
  {
   "cell_type": "code",
   "execution_count": null,
   "id": "41105c62",
   "metadata": {},
   "outputs": [],
   "source": [
    "print(isnullcolumns(input_data))"
   ]
  },
  {
   "cell_type": "code",
   "execution_count": null,
   "id": "9426601f",
   "metadata": {},
   "outputs": [],
   "source": [
    "input_data.info()"
   ]
  },
  {
   "cell_type": "code",
   "execution_count": null,
   "id": "bfa322e7-495c-41af-b547-7fd564eb81f9",
   "metadata": {},
   "outputs": [],
   "source": [
    "input_data.head(5)"
   ]
  },
  {
   "cell_type": "code",
   "execution_count": null,
   "id": "f8496a90-08dc-4b2f-b7ec-07664af79fa6",
   "metadata": {},
   "outputs": [],
   "source": [
    "target_data = oligo_G22_clean.loc[:,['tR1']]\n",
    "print(target_data.shape)\n",
    "target_data.head()"
   ]
  },
  {
   "cell_type": "code",
   "execution_count": null,
   "id": "6558e1ad-e657-47d8-812c-bda37d42537a",
   "metadata": {},
   "outputs": [],
   "source": [
    "null_values = target_data[target_data.isnull().any(axis=1)]\n",
    "print (len(null_values))\n",
    "print (null_values)"
   ]
  },
  {
   "cell_type": "code",
   "execution_count": null,
   "id": "07c04a83-89ae-43ab-aa08-b549a704f3c3",
   "metadata": {},
   "outputs": [],
   "source": [
    "target_data.head(5)"
   ]
  },
  {
   "cell_type": "code",
   "execution_count": null,
   "id": "54fc5bb0",
   "metadata": {},
   "outputs": [],
   "source": [
    "target_data.info()"
   ]
  },
  {
   "cell_type": "code",
   "execution_count": null,
   "id": "69d35541-6538-4134-a9ca-5fa410fdc2d0",
   "metadata": {},
   "outputs": [],
   "source": [
    "input_data.info()"
   ]
  },
  {
   "cell_type": "markdown",
   "id": "ada094ab",
   "metadata": {},
   "source": [
    "## Train Test split (RUN ONLY ONCE)"
   ]
  },
  {
   "cell_type": "code",
   "execution_count": null,
   "id": "4e79d7ec",
   "metadata": {},
   "outputs": [],
   "source": [
    "train_ratio = 0.8\n",
    "test_ratio = 0.2\n",
    "\n",
    "x_train, x_test, y_train, y_test = train_test_split(input_data, target_data, test_size=test_ratio, random_state=42,shuffle=True)\n",
    "\n",
    "print('xtrain ', x_train.shape,'\\n')\n",
    "print('ytrain ', y_train.shape,'\\n')\n",
    "print('xtest ', x_test.shape,'\\n')\n",
    "print('ytest ', y_test.shape,'\\n')"
   ]
  },
  {
   "cell_type": "code",
   "execution_count": null,
   "id": "d376d495-c118-4d16-a75d-93aa1f49c6f2",
   "metadata": {
    "tags": []
   },
   "outputs": [],
   "source": [
    "y_train"
   ]
  },
  {
   "cell_type": "code",
   "execution_count": null,
   "id": "79eeff4d",
   "metadata": {},
   "outputs": [],
   "source": [
    "#### RUN ONLY ONCE THEN READ THE DATASETS FROM THE EXPERTED FILES\n",
    "x_train.to_excel(\"G22_xtrain.xlsx\")\n",
    "y_train.to_excel(\"G22_ytrain.xlsx\")\n",
    "x_test.to_excel(\"G22_xtest.xlsx\")\n",
    "y_test.to_excel(\"G22_ytest.xlsx\")"
   ]
  },
  {
   "cell_type": "markdown",
   "id": "3519036f",
   "metadata": {},
   "source": [
    "## **Applying Machine Learning Models**"
   ]
  },
  {
   "cell_type": "code",
   "execution_count": null,
   "id": "6acdadfb",
   "metadata": {},
   "outputs": [],
   "source": [
    "features = {}\n",
    "\n",
    "features['count'] = ['Fa', 'Ft', 'Fg', 'Fc', 'Length']\n",
    "features ['sulfurcount'] = ['Fsulf']\n",
    "features['contact'] = prod('ATGC', repeat = 2)\n",
    "features['scontact'] = [f\"{comb[0]}{comb[-1]}_{comb[-1]}{comb[0]}\" for comb in pair_comb('ATGC', 2)]\n",
    "features['position'] = ['first position', 'last position']\n",
    "\n",
    "featvec = ['count','sulfurcount','contact','scontact','position']\n",
    "featcombinations = []\n",
    "\n",
    "for i in range(len(featvec)):\n",
    "    for c in list(combinations(featvec, i + 1)):\n",
    "        featcombinations.append(list(c))\n",
    "\n",
    "featvec"
   ]
  },
  {
   "cell_type": "code",
   "execution_count": null,
   "id": "b72f176c",
   "metadata": {
    "tags": []
   },
   "outputs": [],
   "source": [
    "featcombinations"
   ]
  },
  {
   "cell_type": "code",
   "execution_count": null,
   "id": "03230870",
   "metadata": {},
   "outputs": [],
   "source": [
    "x_train = pd.read_excel('G22_xtrain.xlsx')\n",
    "y_train = pd.read_excel('G22_ytrain.xlsx')"
   ]
  },
  {
   "cell_type": "code",
   "execution_count": null,
   "id": "aba66031",
   "metadata": {},
   "outputs": [],
   "source": [
    "x_train.info()"
   ]
  },
  {
   "cell_type": "code",
   "execution_count": null,
   "id": "7c88daf5-6881-4bb1-83e7-329c96e0f7f2",
   "metadata": {},
   "outputs": [],
   "source": [
    "x_train.head()"
   ]
  },
  {
   "cell_type": "code",
   "execution_count": null,
   "id": "acb96f9f",
   "metadata": {},
   "outputs": [],
   "source": [
    "y_train.info()"
   ]
  },
  {
   "cell_type": "code",
   "execution_count": null,
   "id": "4ef11848-34cb-465c-aea1-118d0c12e1a8",
   "metadata": {},
   "outputs": [],
   "source": [
    "y_train"
   ]
  },
  {
   "cell_type": "code",
   "execution_count": null,
   "id": "d8484518",
   "metadata": {},
   "outputs": [],
   "source": [
    "print(isnullcolumns(y_train))"
   ]
  },
  {
   "cell_type": "code",
   "execution_count": null,
   "id": "5ad96893",
   "metadata": {},
   "outputs": [],
   "source": [
    "df_sequence_input=x_train[\"Sequence\"]\n",
    "df_sequence_input.head()"
   ]
  },
  {
   "cell_type": "code",
   "execution_count": null,
   "id": "8ef1bbd7",
   "metadata": {},
   "outputs": [],
   "source": [
    "sequence =[]\n",
    "for i,seq in enumerate (df_sequence_input):\n",
    "    sequence=np.append(sequence, seq)"
   ]
  },
  {
   "cell_type": "code",
   "execution_count": null,
   "id": "3f59780c",
   "metadata": {
    "tags": []
   },
   "outputs": [],
   "source": [
    "len(sequence)"
   ]
  },
  {
   "cell_type": "code",
   "execution_count": null,
   "id": "934e91a8",
   "metadata": {},
   "outputs": [],
   "source": [
    "df_tRvec = y_train['tR1']"
   ]
  },
  {
   "cell_type": "code",
   "execution_count": null,
   "id": "3068c62b",
   "metadata": {
    "tags": []
   },
   "outputs": [],
   "source": [
    "df_tRvec"
   ]
  },
  {
   "cell_type": "code",
   "execution_count": null,
   "id": "528621b9",
   "metadata": {},
   "outputs": [],
   "source": [
    "sequence.shape"
   ]
  },
  {
   "cell_type": "code",
   "execution_count": null,
   "id": "9fcdd847",
   "metadata": {},
   "outputs": [],
   "source": [
    "print(isnullcolumns(df_tRvec))"
   ]
  },
  {
   "cell_type": "code",
   "execution_count": null,
   "id": "53add291-688d-4a7d-8d04-8e0db9d43764",
   "metadata": {},
   "outputs": [],
   "source": [
    "df_tRvec.shape"
   ]
  },
  {
   "cell_type": "code",
   "execution_count": null,
   "id": "a13ff4fc-ac90-4044-89f7-fada2a94e77f",
   "metadata": {},
   "outputs": [],
   "source": [
    "inj = x_train[\"Vinj\"]\n",
    "#inj = inj.reset_index()"
   ]
  },
  {
   "cell_type": "code",
   "execution_count": null,
   "id": "1af739d8-b5b4-4651-aa6e-8f3064e91112",
   "metadata": {},
   "outputs": [],
   "source": [
    "inj"
   ]
  },
  {
   "cell_type": "markdown",
   "id": "83b57061-90ae-497f-8d96-b4b2ce958ebb",
   "metadata": {},
   "source": [
    "### ---> Testing encode_input function after fixing the contact and scontact"
   ]
  },
  {
   "cell_type": "code",
   "execution_count": null,
   "id": "5d53272e-1dfe-4f81-9a20-8cd715239052",
   "metadata": {},
   "outputs": [],
   "source": [
    "test_data = encode_input(sequence, featvec)\n",
    "test_data = pd.concat([test_data, inj], axis=1)\n",
    "test_data"
   ]
  },
  {
   "cell_type": "code",
   "execution_count": null,
   "id": "3ce009c1-f096-4743-ab2b-369b568a8998",
   "metadata": {
    "tags": []
   },
   "outputs": [],
   "source": [
    "print(isnullcolumns(test_data))"
   ]
  },
  {
   "cell_type": "markdown",
   "id": "58dbf213-3be2-4763-8af8-f6d81aafda8f",
   "metadata": {},
   "source": [
    "### 1. Gradient boost"
   ]
  },
  {
   "cell_type": "code",
   "execution_count": null,
   "id": "564c79c9",
   "metadata": {},
   "outputs": [],
   "source": [
    "params = {\n",
    "            'max_depth': [5,10,15,20,50],\n",
    "            'learning_rate': [0.001, 0.01, 0.1, 0.2],\n",
    "            'n_estimators': [100, 500, 1000],\n",
    "            'max_leaf_nodes': [2, 5, 10]\n",
    "        }"
   ]
  },
  {
   "cell_type": "code",
   "execution_count": null,
   "id": "5066be40",
   "metadata": {
    "tags": []
   },
   "outputs": [],
   "source": [
    "start = time.time()\n",
    "\n",
    "#__defining variables\n",
    "splits = 3\n",
    "count = 0\n",
    "best_perfomer_dict=dict()\n",
    "scores = []\n",
    "\n",
    "#__applying model to every feature combination, 31 features' combinations incl.  position and sulfur count features and excl. hairpin features\n",
    "\n",
    "for j, featcomb in enumerate(featcombinations):\n",
    "    inputvec_train = encode_input(sequence, featcomb)\n",
    "    #inputvec_train['Vinj']=x_train[\"Vinj\"]\n",
    "    inputvec_train = pd.concat([inputvec_train, inj['Vinj']], axis=1)\n",
    "    #print(inputvec_train)\n",
    "    #print(isnullcolumns(inj['Vinj']))\n",
    "    \n",
    "    \n",
    "    for col in  inputvec_train.columns[0:30]:\n",
    "        inputvec_train[col] = pd.to_numeric(inputvec_train[col], errors='coerce')\n",
    "#print (inputvec_train.info())\n",
    "        \n",
    "    xtrain, xvalid, ytrain, yvalid= train_test_split(inputvec_train, df_tRvec, test_size = 0.2, random_state = 42, shuffle=True)\n",
    "        #print(len(X_train))\n",
    "        #print(X_train)\n",
    "        #print(X_test)\n",
    "        \n",
    "    model = GradientBoostingRegressor()\n",
    "                \n",
    "    grid = skl_ms.GridSearchCV(model, params, scoring = ['neg_root_mean_squared_error','r2'], refit = 'neg_root_mean_squared_error', cv = splits)\n",
    "    grid.fit(xtrain, ytrain)\n",
    "    model = grid.best_estimator_\n",
    "                \n",
    "    pre = model.predict(xvalid)\n",
    "    err = skl_me.mean_squared_error(yvalid, pre, squared = False)\n",
    "    count += 1\n",
    "    print(f'\\ncount: {count}')\n",
    "            \n",
    "    if ' '.join(featcomb) in best_perfomer_dict.keys():\n",
    "\n",
    "        best_perfomer_dict[f' '.join(featcomb)] += err\n",
    "            \n",
    "    else:\n",
    "            \n",
    "        best_perfomer_dict[' '.join(featcomb)] = err\n",
    "            \n",
    "\n",
    "print(f'\\n --- %s seconds --- % {time.time() - start}')\n",
    "\n",
    "Min_error = min(best_perfomer_dict.values()) \n",
    "Min_key = min(best_perfomer_dict, key=best_perfomer_dict.get)  "
   ]
  },
  {
   "cell_type": "code",
   "execution_count": null,
   "id": "4c4cbecd-6d36-4a77-9871-ab7edb19a4de",
   "metadata": {},
   "outputs": [],
   "source": [
    "model = grid.best_estimator_\n",
    "print (\"grid.best_estimator_\", grid.best_estimator_)\n",
    "print (\"grid.best_score_\", grid.best_score_)\n",
    "        \n",
    "filename = f\"GB_G2.sav\"\n",
    "        \n",
    "pickle.dump(model, open(filename, 'wb'))"
   ]
  },
  {
   "cell_type": "code",
   "execution_count": null,
   "id": "382e0497",
   "metadata": {},
   "outputs": [],
   "source": [
    "print ('Grid Search and Features selection results:\\n')\n",
    "print (best_perfomer_dict)"
   ]
  },
  {
   "cell_type": "code",
   "execution_count": null,
   "id": "07f04b4d",
   "metadata": {},
   "outputs": [],
   "source": [
    "print(f\"features {Min_key}\")\n",
    "print(f\"RMSE: {Min_error}\")\n",
    "print(f'Best parameters: {grid.best_estimator_}')"
   ]
  },
  {
   "cell_type": "code",
   "execution_count": null,
   "id": "d18e250b-62b0-48f2-b88b-db0db809af75",
   "metadata": {},
   "outputs": [],
   "source": [
    "GB_results = pd.DataFrame(grid.cv_results_)\n",
    "GB_results.to_excel(\"G2_GB_grid.xlsx\")"
   ]
  },
  {
   "cell_type": "code",
   "execution_count": null,
   "id": "20e52b0b",
   "metadata": {},
   "outputs": [],
   "source": [
    "best_estim = grid.best_estimator_\n",
    "best_estim"
   ]
  },
  {
   "cell_type": "code",
   "execution_count": null,
   "id": "a5b61950-c1e5-405f-aa2d-330aaf2ab2d8",
   "metadata": {},
   "outputs": [],
   "source": [
    "df_tRvec"
   ]
  },
  {
   "cell_type": "code",
   "execution_count": null,
   "id": "f9ae0fbc-f4c8-4710-91d6-cb450c3e2ed8",
   "metadata": {},
   "outputs": [],
   "source": [
    "best_featvec = ['count','sulfurcount', 'contact','position']"
   ]
  },
  {
   "cell_type": "code",
   "execution_count": null,
   "id": "ffb14360-fcf2-4ef4-81a6-499977ec57dd",
   "metadata": {
    "tags": []
   },
   "outputs": [],
   "source": [
    "alldata_train = encode_input(sequence, best_featvec)\n",
    "alldata_train = pd.concat([alldata_train, inj['Vinj']], axis=1)\n",
    "\n",
    "for col in  alldata_train.columns[0:30]:\n",
    "    alldata_train[col] = pd.to_numeric(alldata_train[col], errors='coerce')\n",
    "\n",
    "alldata_train"
   ]
  },
  {
   "cell_type": "code",
   "execution_count": null,
   "id": "3ee0ac6c-1b11-4830-bc3c-d0a355caffd9",
   "metadata": {},
   "outputs": [],
   "source": [
    "best_estim.fit(alldata_train, df_tRvec)"
   ]
  },
  {
   "cell_type": "code",
   "execution_count": null,
   "id": "b2c99997-5fe6-41a2-bc16-4e0ed8a9e816",
   "metadata": {},
   "outputs": [],
   "source": [
    "acc_train = round(best_estim.score(alldata_train, df_tRvec), 3)\n",
    "print(\"training r2\", acc_train)"
   ]
  },
  {
   "cell_type": "code",
   "execution_count": null,
   "id": "ed8fd3ba-6f70-4d1e-8e5f-9f2e751640be",
   "metadata": {},
   "outputs": [],
   "source": [
    "predtr = best_estim.predict(alldata_train)\n",
    "\n",
    "rmsetr = skl_me.mean_squared_error(df_tRvec, predtr, squared = False)\n",
    "\n",
    "print ('training rmse', rmsetr)"
   ]
  },
  {
   "cell_type": "code",
   "execution_count": null,
   "id": "be29d960-5837-4505-87ec-d01675b6310e",
   "metadata": {},
   "outputs": [],
   "source": [
    "x_test.head()"
   ]
  },
  {
   "cell_type": "code",
   "execution_count": null,
   "id": "0aed9696-b7fa-4494-80e1-f2b03773d7da",
   "metadata": {},
   "outputs": [],
   "source": [
    "x_test.shape"
   ]
  },
  {
   "cell_type": "code",
   "execution_count": null,
   "id": "aad3b4bb-44c5-4402-9ccc-9faa12dbcbb4",
   "metadata": {
    "tags": []
   },
   "outputs": [],
   "source": [
    "inj_ts = x_test[\"Vinj\"]\n",
    "inj_ts = inj_ts.reset_index()\n",
    "inj_ts"
   ]
  },
  {
   "cell_type": "code",
   "execution_count": null,
   "id": "45007e8e-09b9-4cbf-9b7f-58cf5e7de10a",
   "metadata": {
    "tags": []
   },
   "outputs": [],
   "source": [
    "test_sequence =[]\n",
    "for i,seq in enumerate (x_test['Sequence']):\n",
    "    test_sequence=np.append(test_sequence, seq)\n",
    "\n",
    "#test_sequence\n",
    "Xtest = encode_input(test_sequence, best_featvec)\n",
    "Xtest = pd.concat([Xtest, inj_ts['Vinj']], axis=1)\n",
    "\n",
    "for col in  Xtest.columns[0:30]:\n",
    "    Xtest[col] = pd.to_numeric(Xtest[col], errors='coerce')\n",
    "\n",
    "Xtest.head(10)"
   ]
  },
  {
   "cell_type": "code",
   "execution_count": null,
   "id": "c379a0b0-8471-461a-8cdc-e166f15e16bd",
   "metadata": {},
   "outputs": [],
   "source": [
    "Xtest.shape"
   ]
  },
  {
   "cell_type": "code",
   "execution_count": null,
   "id": "283f1dd8-24f5-4dd9-acc5-4b2d5296ad81",
   "metadata": {},
   "outputs": [],
   "source": [
    "test_tRvec = y_test['tR1']\n",
    "test_tRvec.shape"
   ]
  },
  {
   "cell_type": "code",
   "execution_count": null,
   "id": "4f597893-b00e-4656-ba85-cb3ae0f85c55",
   "metadata": {
    "tags": []
   },
   "outputs": [],
   "source": [
    "print(isnullcolumns(Xtest))"
   ]
  },
  {
   "cell_type": "code",
   "execution_count": null,
   "id": "cd3cd322-4a08-4a40-85f6-247c4fcd52a9",
   "metadata": {},
   "outputs": [],
   "source": [
    "r = Xtest.index[np.isinf(Xtest).any(1)]\n",
    "print(r)"
   ]
  },
  {
   "cell_type": "code",
   "execution_count": null,
   "id": "c7752bf0-9ff9-4cc2-bfec-940faf3a0239",
   "metadata": {},
   "outputs": [],
   "source": [
    "pred = best_estim.predict(Xtest)\n",
    "\n",
    "rmse_err = skl_me.mean_squared_error(test_tRvec, pred, squared = False)\n",
    "\n",
    "r2 = r2_score(test_tRvec, pred)\n",
    "\n",
    "print (f'G2 - Best Features GB hyperparameters - testing scores')\n",
    "print (f'---------------')\n",
    "print(f\"R2: %.3f\" % r2)\n",
    "print (f\"RMSE: %.3f\" % rmse_err)"
   ]
  },
  {
   "cell_type": "code",
   "execution_count": null,
   "id": "58554d98-850a-48de-ba28-121dfcde47cc",
   "metadata": {},
   "outputs": [],
   "source": [
    "acc_test = round(best_estim.score(Xtest, test_tRvec), 3)\n",
    "print(\" r2\", acc_test)"
   ]
  },
  {
   "cell_type": "code",
   "execution_count": null,
   "id": "152a23ae-6b45-4cce-b747-abf94a4c14fe",
   "metadata": {},
   "outputs": [],
   "source": [
    "plt.figure(figsize=(5,4))\n",
    "plt.scatter(test_tRvec, pred, c='#6495ED', s=14)\n",
    "\n",
    "p1 = max(max(pred), max(test_tRvec))\n",
    "p2 = min(min(pred), min(test_tRvec))\n",
    "plt.plot([p1, p2], [p1, p2], 'k-')\n",
    "plt.xlabel(\"$ Observed_ t_R (min)$\", fontsize=11)\n",
    "plt.ylabel(\" $Predicted_ t_R (min)$\", fontsize=11)\n",
    "plt.axis('equal')\n",
    "plt.savefig('G2_GB.pdf', format='pdf', dpi=1200, bbox_inches='tight')\n",
    "plt.show()"
   ]
  },
  {
   "cell_type": "markdown",
   "id": "b75ce916-44f3-4047-9a52-6bf7b2bedd62",
   "metadata": {},
   "source": [
    "### 2. Random Forest"
   ]
  },
  {
   "cell_type": "code",
   "execution_count": null,
   "id": "0c2c2999-b2db-4fe6-a2d2-7245d9f1f049",
   "metadata": {},
   "outputs": [],
   "source": [
    "df_tRvec"
   ]
  },
  {
   "cell_type": "code",
   "execution_count": null,
   "id": "c489d408-6e67-4437-bfb0-f8ba01fcc0e9",
   "metadata": {},
   "outputs": [],
   "source": [
    "len(sequence)"
   ]
  },
  {
   "cell_type": "code",
   "execution_count": null,
   "id": "255dd159-46a5-4cf1-9954-dd064ded437d",
   "metadata": {},
   "outputs": [],
   "source": [
    "#setting the parameters for the RF model\n",
    "n_estimators = [int(x) for x in np.linspace(start = 10, stop = 300, num = 5)] # Number of trees in random forest\n",
    "max_depth = [int(x) for x in np.linspace(5, 500, num = 10)]# Maximum number of levels in tree\n",
    "min_samples_split = [2, 4]# Minimum number of samples required to split a node\n",
    "min_samples_leaf = [1, 2]# Minimum number of samples required at each leaf node\n",
    "\n",
    "model_params = {\n",
    "            'n_estimators': n_estimators,\n",
    "            'max_depth': max_depth,\n",
    "            'min_samples_split': min_samples_split,\n",
    "            'min_samples_leaf': min_samples_leaf\n",
    "            }"
   ]
  },
  {
   "cell_type": "code",
   "execution_count": null,
   "id": "ca7682ea-29ea-4338-89db-c6309f919933",
   "metadata": {},
   "outputs": [],
   "source": [
    "start = time.time()\n",
    "\n",
    "#__defining variables\n",
    "splits = 3\n",
    "count = 0\n",
    "best_perfomer_dict=dict()\n",
    "scores = []\n",
    "\n",
    "#__applying model to every feature combination, 31 features' combinations incl.  position and sulfur count features and excl. hairpin features\n",
    "\n",
    "for j, featcomb in enumerate(featcombinations):\n",
    "    inputvec_train = encode_input(sequence, featcomb)\n",
    "    #inputvec_train['Vinj']=x_train[\"Vinj\"]\n",
    "    inputvec_train = pd.concat([inputvec_train, inj['Vinj']], axis=1)\n",
    "    #print(inputvec_train)\n",
    "    #print(isnullcolumns(inj['Vinj']))\n",
    "    \n",
    "    \n",
    "    for col in  inputvec_train.columns[0:30]:\n",
    "        inputvec_train[col] = pd.to_numeric(inputvec_train[col], errors='coerce')\n",
    "#print (inputvec_train.info())\n",
    "        \n",
    "    xtrain, xvalid, ytrain, yvalid= train_test_split(inputvec_train, df_tRvec, test_size = 0.2, random_state = 42, shuffle=True)\n",
    "        #print(len(X_train))\n",
    "        #print(X_train)\n",
    "        #print(X_test)\n",
    "        \n",
    "    model = RandomForestRegressor()\n",
    "                \n",
    "    grid = skl_ms.GridSearchCV(model, model_params, scoring = ['neg_root_mean_squared_error', 'r2'], refit = 'neg_root_mean_squared_error', cv = splits)\n",
    "    grid.fit(xtrain, ytrain)\n",
    "    model = grid.best_estimator_\n",
    "                \n",
    "    pre = model.predict(xvalid)\n",
    "    err = skl_me.mean_squared_error(yvalid, pre, squared = False)\n",
    "    count += 1\n",
    "    print(f'\\ncount: {count}')\n",
    "            \n",
    "    if ' '.join(featcomb) in best_perfomer_dict.keys():\n",
    "\n",
    "        best_perfomer_dict[f' '.join(featcomb)] += err\n",
    "            \n",
    "    else:\n",
    "            \n",
    "        best_perfomer_dict[' '.join(featcomb)] = err\n",
    "            \n",
    "\n",
    "print(f'\\n --- %s seconds --- % {time.time() - start}')\n",
    "\n",
    "Min_error = min(best_perfomer_dict.values()) \n",
    "Min_key = min(best_perfomer_dict, key=best_perfomer_dict.get)"
   ]
  },
  {
   "cell_type": "code",
   "execution_count": null,
   "id": "0b9d931f-3876-407b-a0e7-ec072162582f",
   "metadata": {},
   "outputs": [],
   "source": [
    "model = grid.best_estimator_\n",
    "print (\"grid.best_estimator_\", grid.best_estimator_)\n",
    "print (\"grid.best_score_\", grid.best_score_)\n",
    "        \n",
    "filename = f\"RF_G2.sav\"\n",
    "        \n",
    "pickle.dump(model, open(filename, 'wb'))"
   ]
  },
  {
   "cell_type": "code",
   "execution_count": null,
   "id": "a9113a38-d437-4d87-aff5-97036327ee6b",
   "metadata": {},
   "outputs": [],
   "source": [
    "print ('Grid Search and Features selection results:\\n')\n",
    "print (best_perfomer_dict)"
   ]
  },
  {
   "cell_type": "code",
   "execution_count": null,
   "id": "4e1cbcd3-f2b0-4e94-bebd-a569319861e4",
   "metadata": {},
   "outputs": [],
   "source": [
    "print(f\"features {Min_key}\")\n",
    "print(f\"RMSE: {Min_error}\")\n",
    "print(f'Best parameters: {grid.best_estimator_}')"
   ]
  },
  {
   "cell_type": "code",
   "execution_count": null,
   "id": "b4b95638-1ceb-4222-b039-817210ea63f1",
   "metadata": {},
   "outputs": [],
   "source": [
    "RF_results = pd.DataFrame(grid.cv_results_)\n",
    "RF_results.to_excel(\"G2_RF_grid.xlsx\")"
   ]
  },
  {
   "cell_type": "code",
   "execution_count": null,
   "id": "5f430f8e-3955-40e5-8b65-8bd2c52bb8a1",
   "metadata": {},
   "outputs": [],
   "source": [
    "best_estim = grid.best_estimator_\n",
    "best_estim"
   ]
  },
  {
   "cell_type": "code",
   "execution_count": null,
   "id": "51be9287-a174-4b39-bb80-18c4e4016100",
   "metadata": {},
   "outputs": [],
   "source": [
    "df_tRvec.shape"
   ]
  },
  {
   "cell_type": "code",
   "execution_count": null,
   "id": "16cbee13-e957-4e6e-bbe4-0755d4ba16ff",
   "metadata": {},
   "outputs": [],
   "source": [
    "best_featvec = ['count','sulfurcount' ,'scontact']"
   ]
  },
  {
   "cell_type": "code",
   "execution_count": null,
   "id": "43aee7d4-ee04-4d41-beb1-c286ee2933e7",
   "metadata": {},
   "outputs": [],
   "source": [
    "alldata_train = encode_input(sequence, best_featvec)\n",
    "alldata_train = pd.concat([alldata_train, inj['Vinj']], axis=1)\n",
    "\n",
    "for col in  alldata_train.columns[0:30]:\n",
    "    alldata_train[col] = pd.to_numeric(alldata_train[col], errors='coerce')\n",
    "\n",
    "alldata_train"
   ]
  },
  {
   "cell_type": "code",
   "execution_count": null,
   "id": "9f0b7837-3be5-4b6f-9de3-250ee55d933e",
   "metadata": {},
   "outputs": [],
   "source": [
    "alldata_train.info()"
   ]
  },
  {
   "cell_type": "code",
   "execution_count": null,
   "id": "0df1dbdd-3a53-4fc4-8a10-aebd49576ade",
   "metadata": {},
   "outputs": [],
   "source": [
    "best_estim.fit(alldata_train, df_tRvec)"
   ]
  },
  {
   "cell_type": "code",
   "execution_count": null,
   "id": "ef05f71f-0af8-4afb-89af-0e0f11840558",
   "metadata": {},
   "outputs": [],
   "source": [
    "acc_train = round(best_estim.score(alldata_train, df_tRvec), 3)\n",
    "print(\"training r2\", acc_train)"
   ]
  },
  {
   "cell_type": "code",
   "execution_count": null,
   "id": "8d9482d1-dc8c-4ddb-afb8-e6800355d1e0",
   "metadata": {},
   "outputs": [],
   "source": [
    "predtr = best_estim.predict(alldata_train)\n",
    "\n",
    "rmsetr = skl_me.mean_squared_error(df_tRvec, predtr, squared = False)\n",
    "\n",
    "print ('training rmse', rmsetr)"
   ]
  },
  {
   "cell_type": "code",
   "execution_count": null,
   "id": "92a6df82-9c68-416e-a4e7-7ee7f77182d0",
   "metadata": {
    "tags": []
   },
   "outputs": [],
   "source": [
    "x_test.head()"
   ]
  },
  {
   "cell_type": "code",
   "execution_count": null,
   "id": "f95722cf-3d42-4781-8711-250e4e1f5c8f",
   "metadata": {
    "tags": []
   },
   "outputs": [],
   "source": [
    "inj_ts.shape"
   ]
  },
  {
   "cell_type": "code",
   "execution_count": null,
   "id": "c668ad78-23fc-45a7-8c3c-5bc01b55df96",
   "metadata": {
    "tags": []
   },
   "outputs": [],
   "source": [
    "test_sequence =[]\n",
    "for i,seq in enumerate (x_test['Sequence']):\n",
    "    test_sequence=np.append(test_sequence, seq)\n",
    "\n",
    "#test_sequence\n",
    "Xtest = encode_input(test_sequence, best_featvec)\n",
    "Xtest = pd.concat([Xtest, inj_ts['Vinj']], axis=1)\n",
    "\n",
    "for col in  Xtest.columns[0:30]:\n",
    "    Xtest[col] = pd.to_numeric(Xtest[col], errors='coerce')\n",
    "\n",
    "Xtest.head(5)"
   ]
  },
  {
   "cell_type": "code",
   "execution_count": null,
   "id": "349332ca-1155-4ff8-a25f-2a69414c4ab0",
   "metadata": {},
   "outputs": [],
   "source": [
    "Xtest.shape"
   ]
  },
  {
   "cell_type": "code",
   "execution_count": null,
   "id": "7cc31ef9-9070-447d-b9ef-5021c1e6d8db",
   "metadata": {},
   "outputs": [],
   "source": [
    "test_tRvec = y_test['tR1']\n",
    "test_tRvec.shape"
   ]
  },
  {
   "cell_type": "code",
   "execution_count": null,
   "id": "5ac644f3-2ac8-4d43-925a-946c11bb2db2",
   "metadata": {},
   "outputs": [],
   "source": [
    "r = Xtest.index[np.isinf(Xtest).any(1)]\n",
    "print(r)"
   ]
  },
  {
   "cell_type": "code",
   "execution_count": null,
   "id": "b672db26-14dd-4185-847c-0d99ab7eaf34",
   "metadata": {
    "tags": []
   },
   "outputs": [],
   "source": [
    "print(isnullcolumns(Xtest))"
   ]
  },
  {
   "cell_type": "code",
   "execution_count": null,
   "id": "ec7f8382-12ca-450d-a822-441f82d1e3b6",
   "metadata": {},
   "outputs": [],
   "source": [
    "pred = best_estim.predict(Xtest)\n",
    "\n",
    "rmse_err = skl_me.mean_squared_error(test_tRvec, pred, squared = False)\n",
    "\n",
    "r2 = r2_score(test_tRvec, pred)\n",
    "\n",
    "print (f'G2 - Best Features RF hyperparameters - testing scores')\n",
    "print (f'---------------')\n",
    "print(f\"R2: %.3f\" % r2)\n",
    "print (f\"RMSE: %.3f\" % rmse_err)"
   ]
  },
  {
   "cell_type": "code",
   "execution_count": null,
   "id": "4e2fa695-f17d-490a-ac47-fcd42278b377",
   "metadata": {},
   "outputs": [],
   "source": [
    "plt.figure(figsize=(5,4))\n",
    "plt.scatter(test_tRvec, pred, c='#6495ED', s=14)\n",
    "\n",
    "p1 = max(max(pred), max(test_tRvec))\n",
    "p2 = min(min(pred), min(test_tRvec))\n",
    "plt.plot([p1, p2], [p1, p2], 'k-')\n",
    "plt.xlabel(\"$ Observed_ t_R (min)$\", fontsize=11)\n",
    "plt.ylabel(\" $Predicted_ t_R (min)$\", fontsize=11)\n",
    "plt.axis('equal')\n",
    "plt.savefig('G2_RF.pdf', format='pdf', dpi=1200, bbox_inches='tight')\n",
    "plt.show()"
   ]
  },
  {
   "cell_type": "markdown",
   "id": "9922062f",
   "metadata": {},
   "source": [
    "### 3. Decision tree"
   ]
  },
  {
   "cell_type": "code",
   "execution_count": null,
   "id": "6f47d7a5",
   "metadata": {},
   "outputs": [],
   "source": [
    "params = {\n",
    "    'max_depth' : [2,10,20,30,40,100],\n",
    "    'min_samples_split' : [2,4,8], \n",
    "    'min_samples_leaf': [1,2,4,6,8]\n",
    "}"
   ]
  },
  {
   "cell_type": "code",
   "execution_count": null,
   "id": "95015bb8-ceff-4b8e-8b4a-472666a69827",
   "metadata": {},
   "outputs": [],
   "source": [
    "df_tRvec"
   ]
  },
  {
   "cell_type": "code",
   "execution_count": null,
   "id": "6793f3d7-5065-468d-8d07-38d58b8136fb",
   "metadata": {},
   "outputs": [],
   "source": [
    "len(sequence)"
   ]
  },
  {
   "cell_type": "code",
   "execution_count": null,
   "id": "a3610962",
   "metadata": {
    "tags": []
   },
   "outputs": [],
   "source": [
    "start = time.time()\n",
    "\n",
    "#__defining variables\n",
    "splits = 3\n",
    "count = 0\n",
    "best_perfomer_dict=dict()\n",
    "scores = []\n",
    "\n",
    "#__applying model to every feature combination, 31 features' combinations incl.  position and sulfur count features and excl. hairpin features\n",
    "\n",
    "for j, featcomb in enumerate(featcombinations):\n",
    "    inputvec_train = encode_input(sequence, featcomb)\n",
    "    #inputvec_train['Vinj']=x_train[\"Vinj\"]\n",
    "    inputvec_train = pd.concat([inputvec_train, inj['Vinj']], axis=1)\n",
    "    #print(inputvec_train)\n",
    "    #print(isnullcolumns(inj['Vinj']))\n",
    "    \n",
    "    for col in  inputvec_train.columns[0:30]:\n",
    "        inputvec_train[col] = pd.to_numeric(inputvec_train[col], errors='coerce')\n",
    "        \n",
    "    xtrain, xvalid, ytrain, yvalid= train_test_split(inputvec_train, df_tRvec, test_size = 0.2, random_state = 42, shuffle=True)\n",
    "        #print(len(X_train))\n",
    "        #print(X_train)\n",
    "        #print(X_test)\n",
    "        \n",
    "    model =  DecisionTreeRegressor()\n",
    "                \n",
    "    grid = skl_ms.GridSearchCV(model, params, scoring = ['neg_root_mean_squared_error','r2'], refit = 'neg_root_mean_squared_error', cv = splits)\n",
    "    grid.fit(xtrain, ytrain)\n",
    "    model = grid.best_estimator_\n",
    "                \n",
    "    pre = model.predict(xvalid)\n",
    "    err = skl_me.mean_squared_error(yvalid, pre, squared = False)\n",
    "    count += 1\n",
    "    print(f'\\ncount: {count}')\n",
    "            \n",
    "    if ' '.join(featcomb) in best_perfomer_dict.keys():\n",
    "\n",
    "        best_perfomer_dict[f' '.join(featcomb)] += err\n",
    "            \n",
    "    else:\n",
    "            \n",
    "        best_perfomer_dict[' '.join(featcomb)] = err\n",
    "            \n",
    "\n",
    "print(f'\\n --- %s seconds --- % {time.time() - start}')\n",
    "\n",
    "Min_error = min(best_perfomer_dict.values()) \n",
    "Min_key = min(best_perfomer_dict, key=best_perfomer_dict.get)"
   ]
  },
  {
   "cell_type": "code",
   "execution_count": null,
   "id": "d0f4afdb-b03a-4240-9a47-793b64c55143",
   "metadata": {},
   "outputs": [],
   "source": [
    "G2_DT_grid = pd.DataFrame(grid.cv_results_)\n",
    "G2_DT_grid.to_excel('G2_DT_grid.xlsx')"
   ]
  },
  {
   "cell_type": "code",
   "execution_count": null,
   "id": "d50b7608",
   "metadata": {},
   "outputs": [],
   "source": [
    "print ('Grid Search and Features selection results:\\n')\n",
    "print (best_perfomer_dict)"
   ]
  },
  {
   "cell_type": "code",
   "execution_count": null,
   "id": "45e7f2aa-9014-468c-bafd-3b4a095590c2",
   "metadata": {},
   "outputs": [],
   "source": [
    "model = grid.best_estimator_\n",
    "print (\"grid.best_estimator_\", grid.best_estimator_)\n",
    "print (\"grid.best_score_\", grid.best_score_)\n",
    "        \n",
    "filename = f\"DT_G2.sav\"\n",
    "        \n",
    "pickle.dump(model, open(filename, 'wb'))"
   ]
  },
  {
   "cell_type": "code",
   "execution_count": null,
   "id": "96f31a87",
   "metadata": {},
   "outputs": [],
   "source": [
    "print(f\"features {Min_key}\")\n",
    "print(f\"RMSE: {Min_error}\")\n",
    "print(f'Best parameters: {grid.best_estimator_}')"
   ]
  },
  {
   "cell_type": "code",
   "execution_count": null,
   "id": "3588b88d",
   "metadata": {},
   "outputs": [],
   "source": [
    "best_estim = grid.best_estimator_\n",
    "best_estim"
   ]
  },
  {
   "cell_type": "code",
   "execution_count": null,
   "id": "6f9189ee-a45b-4fca-9e9a-ec699f379076",
   "metadata": {},
   "outputs": [],
   "source": [
    "df_tRvec"
   ]
  },
  {
   "cell_type": "code",
   "execution_count": null,
   "id": "88076713-4d4a-448d-b1c3-1304341e97f3",
   "metadata": {},
   "outputs": [],
   "source": [
    "best_featvec=['count','position']"
   ]
  },
  {
   "cell_type": "code",
   "execution_count": null,
   "id": "0f65a46f-5c7f-49da-8d10-c132b4557ee5",
   "metadata": {
    "tags": []
   },
   "outputs": [],
   "source": [
    "pd.set_option('display.max_columns', None)\n",
    "\n",
    "alldata_train = encode_input(sequence, best_featvec)\n",
    "alldata_train = pd.concat([alldata_train, inj['Vinj']], axis=1)\n",
    "\n",
    "for col in  alldata_train.columns[0:30]:\n",
    "    alldata_train[col] = pd.to_numeric(alldata_train[col], errors='coerce')\n",
    "\n",
    "alldata_train"
   ]
  },
  {
   "cell_type": "code",
   "execution_count": null,
   "id": "f6389167-8370-4a2d-9020-333769227b34",
   "metadata": {},
   "outputs": [],
   "source": [
    "best_estim.fit(alldata_train, df_tRvec)"
   ]
  },
  {
   "cell_type": "code",
   "execution_count": null,
   "id": "d776054c-a066-4855-8c9f-69f5e83c670e",
   "metadata": {},
   "outputs": [],
   "source": [
    "acc_train = round(best_estim.score(alldata_train, df_tRvec), 3)\n",
    "print(\"training r2\", acc_train)"
   ]
  },
  {
   "cell_type": "code",
   "execution_count": null,
   "id": "3b02a382-efee-48cb-bf0a-f9f44b4c37a3",
   "metadata": {},
   "outputs": [],
   "source": [
    "predtr = best_estim.predict(alldata_train)\n",
    "\n",
    "rmsetr = skl_me.mean_squared_error(df_tRvec, predtr, squared = False)\n",
    "\n",
    "print (rmsetr)"
   ]
  },
  {
   "cell_type": "code",
   "execution_count": null,
   "id": "b1f74b9a-8085-4633-b2ce-0ebb1a3496da",
   "metadata": {
    "tags": []
   },
   "outputs": [],
   "source": [
    "test_sequence =[]\n",
    "for i,seq in enumerate (x_test['Sequence']):\n",
    "    test_sequence=np.append(test_sequence, seq)\n",
    "\n",
    "#test_sequence\n",
    "Xtest = encode_input(test_sequence, best_featvec)\n",
    "Xtest = pd.concat([Xtest, inj_ts['Vinj']], axis=1)\n",
    "\n",
    "for col in  Xtest.columns[0:30]:\n",
    "    Xtest[col] = pd.to_numeric(Xtest[col], errors='coerce')\n",
    "\n",
    "Xtest.head(5)"
   ]
  },
  {
   "cell_type": "code",
   "execution_count": null,
   "id": "c9cc12ac-e82e-4283-b582-8d2b53da174a",
   "metadata": {},
   "outputs": [],
   "source": [
    "Xtest.shape"
   ]
  },
  {
   "cell_type": "code",
   "execution_count": null,
   "id": "308b72d5-ba2d-4d9f-9439-bc99f9c3a05a",
   "metadata": {},
   "outputs": [],
   "source": [
    "test_tRvec = y_test['tR1']\n",
    "test_tRvec.shape"
   ]
  },
  {
   "cell_type": "code",
   "execution_count": null,
   "id": "51c85782-a1bf-4c8a-bf6a-ffa5cd1c41f7",
   "metadata": {},
   "outputs": [],
   "source": [
    "r = Xtest.index[np.isinf(Xtest).any(1)]\n",
    "print(r)"
   ]
  },
  {
   "cell_type": "code",
   "execution_count": null,
   "id": "c008b754-29a4-4717-9ad1-a2b2143eb965",
   "metadata": {
    "tags": []
   },
   "outputs": [],
   "source": [
    "print(isnullcolumns(Xtest))"
   ]
  },
  {
   "cell_type": "code",
   "execution_count": null,
   "id": "36884083-075d-4a83-b364-1a7e1bcc8554",
   "metadata": {},
   "outputs": [],
   "source": [
    "pred = best_estim.predict(Xtest)\n",
    "\n",
    "rmse_err = skl_me.mean_squared_error(test_tRvec, pred, squared = False)\n",
    "\n",
    "r2 = r2_score(test_tRvec, pred)\n",
    "\n",
    "print (f'G2 - Best Features DT hyperparameters - testing scores')\n",
    "print (f'---------------')\n",
    "print(f\"R2: %.3f\" % r2)\n",
    "print (f\"RMSE: %.3f\" % rmse_err)"
   ]
  },
  {
   "cell_type": "code",
   "execution_count": null,
   "id": "7d5c732f-a72b-46b0-b578-185ec95876b9",
   "metadata": {},
   "outputs": [],
   "source": [
    "plt.figure(figsize=(5,4))\n",
    "plt.scatter(test_tRvec, pred, c='#6495ED', s=14)\n",
    "\n",
    "p1 = max(max(pred), max(test_tRvec))\n",
    "p2 = min(min(pred), min(test_tRvec))\n",
    "plt.plot([p1, p2], [p1, p2], 'k-')\n",
    "plt.xlabel(\"$ Observed_ t_R (min)$\", fontsize=11)\n",
    "plt.ylabel(\" $Predicted_ t_R (min)$\", fontsize=11)\n",
    "plt.axis('equal')\n",
    "plt.savefig('G2_DT.pdf', format='pdf', dpi=1200, bbox_inches='tight')\n",
    "plt.show()"
   ]
  },
  {
   "cell_type": "markdown",
   "id": "a5ce8268-148d-40f8-9bea-9230fea5013c",
   "metadata": {},
   "source": [
    "### SVR"
   ]
  },
  {
   "cell_type": "code",
   "execution_count": null,
   "id": "d59542d7-e2a8-4c6f-94a9-fb6e0c3baa3b",
   "metadata": {},
   "outputs": [],
   "source": [
    "len(sequence)"
   ]
  },
  {
   "cell_type": "code",
   "execution_count": null,
   "id": "14fb4bfb-17f6-4167-81e4-a9cb72708fca",
   "metadata": {},
   "outputs": [],
   "source": [
    "df_tRvec"
   ]
  },
  {
   "cell_type": "code",
   "execution_count": null,
   "id": "f8f21449-116b-4e19-aed5-427a4165024f",
   "metadata": {},
   "outputs": [],
   "source": [
    "params = {'C' : np.linspace(1,1000, 50), \n",
    "              'gamma': [0.1, 0.01, 0.001],\n",
    "              'epsilon': np.linspace(0.0001, 0.0002, 10),\n",
    "              'kernel': ['rbf']\n",
    "         }"
   ]
  },
  {
   "cell_type": "code",
   "execution_count": null,
   "id": "c4f9b705-2fe0-49c3-8f3f-345dba2e1676",
   "metadata": {
    "tags": []
   },
   "outputs": [],
   "source": [
    "start = time.time()\n",
    "\n",
    "#__defining variables\n",
    "splits = 3\n",
    "count = 0\n",
    "best_perfomer_dict=dict()\n",
    "scores = []\n",
    "\n",
    "for j, featcomb in enumerate(featcombinations):\n",
    "    inputvec_train = encode_input(sequence, featcomb)\n",
    "    #inputvec_train['Vinj']=x_train[\"Vinj\"]\n",
    "    inputvec_train = pd.concat([inputvec_train, inj], axis=1)\n",
    "    #print(inputvec_train)\n",
    "    #print(isnullcolumns(inj['Vinj']))\n",
    "    \n",
    "#print(inputvec_train.info())\n",
    "\n",
    "    for col in  inputvec_train.columns[0:30]:\n",
    "        inputvec_train[col] = pd.to_numeric(inputvec_train[col], errors='coerce')\n",
    "        \n",
    "    xtrain, xvalid, ytrain, yvalid= train_test_split(inputvec_train, df_tRvec, test_size = 0.2, random_state = 42, shuffle=True)\n",
    "        \n",
    "    model = svm.SVR()\n",
    "                \n",
    "    grid = skl_ms.GridSearchCV(model, params, scoring = ['neg_root_mean_squared_error','r2'], refit = 'neg_root_mean_squared_error', cv = splits)\n",
    "    grid.fit(xtrain, ytrain)\n",
    "    model = grid.best_estimator_\n",
    "                \n",
    "    pre = model.predict(xvalid)\n",
    "    err = skl_me.mean_squared_error(yvalid, pre, squared = False)\n",
    "    count += 1\n",
    "    print(f'\\ncount: {count}')\n",
    "            \n",
    "    if ' '.join(featcomb) in best_perfomer_dict.keys():\n",
    "\n",
    "        best_perfomer_dict[f' '.join(featcomb)] += err\n",
    "            \n",
    "    else:\n",
    "            \n",
    "        best_perfomer_dict[' '.join(featcomb)] = err\n",
    "            \n",
    "\n",
    "print(f'\\n --- %s seconds --- % {time.time() - start}')\n",
    "\n",
    "Min_error = min(best_perfomer_dict.values())  \n",
    "Min_key = min(best_perfomer_dict, key=best_perfomer_dict.get)"
   ]
  },
  {
   "cell_type": "code",
   "execution_count": null,
   "id": "845a388d-b838-411e-b068-936b74bfd229",
   "metadata": {
    "tags": []
   },
   "outputs": [],
   "source": [
    "best_perfomer_dict"
   ]
  },
  {
   "cell_type": "code",
   "execution_count": null,
   "id": "65484cc1-8c7c-483c-a842-5742aae7cdc8",
   "metadata": {},
   "outputs": [],
   "source": [
    "print(f\"features {Min_key}\")\n",
    "print(f\"RMSE: {Min_error}\")\n",
    "print(f'Best parameters: {grid.best_estimator_}')"
   ]
  },
  {
   "cell_type": "code",
   "execution_count": null,
   "id": "29179dcd-6d25-4252-9926-c78a06a5c2eb",
   "metadata": {},
   "outputs": [],
   "source": [
    "best_estim = grid.best_estimator_\n",
    "print (\"grid.best_estimator_\", grid.best_estimator_)\n",
    "print (\"grid.best_score_\", grid.best_score_)\n",
    "        \n",
    "filename = f\"SVR_G2.sav\"\n",
    "        \n",
    "pickle.dump(best_estim, open(filename, 'wb'))"
   ]
  },
  {
   "cell_type": "code",
   "execution_count": null,
   "id": "d078c9d4-d721-4b07-a71f-4d8afb7eab46",
   "metadata": {},
   "outputs": [],
   "source": [
    "best_featvec = ['count','sulfurcount']"
   ]
  },
  {
   "cell_type": "code",
   "execution_count": null,
   "id": "7b68aa0b-5838-4e5c-a090-e71ca8d869c0",
   "metadata": {},
   "outputs": [],
   "source": [
    "len(sequence)"
   ]
  },
  {
   "cell_type": "code",
   "execution_count": null,
   "id": "d1a633d0-430b-4997-a917-74060e261fcc",
   "metadata": {},
   "outputs": [],
   "source": [
    "pd.set_option('display.max_columns', None)\n",
    "\n",
    "alldata_train = encode_input(sequence, best_featvec)\n",
    "alldata_train = pd.concat([alldata_train, inj], axis=1)\n",
    "\n",
    "for col in  alldata_train.columns[0:30]:\n",
    "    alldata_train[col] = pd.to_numeric(alldata_train[col], errors='coerce')\n",
    "\n",
    "alldata_train"
   ]
  },
  {
   "cell_type": "code",
   "execution_count": null,
   "id": "06e5ce4c-9a78-4365-9875-b098df14237a",
   "metadata": {},
   "outputs": [],
   "source": [
    "best_estim"
   ]
  },
  {
   "cell_type": "code",
   "execution_count": null,
   "id": "7c633e70-696e-4c7a-9c5e-37c45e0a5b32",
   "metadata": {},
   "outputs": [],
   "source": [
    "df_tRvec.shape"
   ]
  },
  {
   "cell_type": "code",
   "execution_count": null,
   "id": "dfda8636-607f-4482-a380-d1aaa15134b8",
   "metadata": {},
   "outputs": [],
   "source": [
    "best_estim.fit(alldata_train, df_tRvec)"
   ]
  },
  {
   "cell_type": "code",
   "execution_count": null,
   "id": "5bcd51f3-1ccc-45ce-8d63-9bdff1a79ee8",
   "metadata": {},
   "outputs": [],
   "source": [
    "acc_train = round(best_estim.score(alldata_train, df_tRvec), 3)\n",
    "print(\"training r2\", acc_train)"
   ]
  },
  {
   "cell_type": "code",
   "execution_count": null,
   "id": "9987a025-dc1f-49ee-aa2d-b73073dbf981",
   "metadata": {},
   "outputs": [],
   "source": [
    "predtr = best_estim.predict(alldata_train)\n",
    "\n",
    "rmsetr = skl_me.mean_squared_error(df_tRvec, predtr, squared = False)\n",
    "\n",
    "print (rmsetr)"
   ]
  },
  {
   "cell_type": "code",
   "execution_count": null,
   "id": "9b9f5a53-95e8-4a69-9eb4-a60da82d5b66",
   "metadata": {},
   "outputs": [],
   "source": [
    "x_test = pd.read_excel('G22_xtest.xlsx')\n",
    "y_test = pd.read_excel('G22_ytest.xlsx')"
   ]
  },
  {
   "cell_type": "code",
   "execution_count": null,
   "id": "5a6de00e-5a07-45f0-9184-3d7f7c3b33f8",
   "metadata": {},
   "outputs": [],
   "source": [
    "x_test"
   ]
  },
  {
   "cell_type": "code",
   "execution_count": null,
   "id": "b542e7ce-3d29-4f00-a493-758def2dd79a",
   "metadata": {},
   "outputs": [],
   "source": [
    "y_test"
   ]
  },
  {
   "cell_type": "code",
   "execution_count": null,
   "id": "2fdf6909-dded-439c-813b-012ca248f0e8",
   "metadata": {},
   "outputs": [],
   "source": [
    "x_test['Sequence'].shape"
   ]
  },
  {
   "cell_type": "code",
   "execution_count": null,
   "id": "cfcef190-7e5f-4716-8473-7288c8976888",
   "metadata": {},
   "outputs": [],
   "source": [
    "inj_ts = x_test[\"Vinj\"]\n",
    "#inj_ts = inj_ts.reset_index()\n",
    "len(inj_ts)"
   ]
  },
  {
   "cell_type": "code",
   "execution_count": null,
   "id": "9d8aabea-c1f2-4fe9-98f6-99dba0a49a6c",
   "metadata": {},
   "outputs": [],
   "source": [
    "inj_ts"
   ]
  },
  {
   "cell_type": "code",
   "execution_count": null,
   "id": "333dde35-09a1-4eda-b39d-2ea39fb02352",
   "metadata": {},
   "outputs": [],
   "source": [
    "test_sequence =[]\n",
    "for i,seq in enumerate (x_test['Sequence']):\n",
    "    test_sequence=np.append(test_sequence, seq)\n",
    "\n",
    "#test_sequence\n",
    "Xtest = encode_input(test_sequence, best_featvec)\n",
    "Xtest = pd.concat([Xtest, inj_ts], axis=1)\n",
    "\n",
    "for col in  Xtest.columns[0:30]:\n",
    "    Xtest[col] = pd.to_numeric(Xtest[col], errors='coerce')\n",
    "\n",
    "Xtest.head(5)"
   ]
  },
  {
   "cell_type": "code",
   "execution_count": null,
   "id": "89c3addc-ca6b-400d-9327-07c1e205f95d",
   "metadata": {},
   "outputs": [],
   "source": [
    "print(isnullcolumns(Xtest))"
   ]
  },
  {
   "cell_type": "code",
   "execution_count": null,
   "id": "e33ca139-9fb3-431d-91bc-56b406d65e0d",
   "metadata": {},
   "outputs": [],
   "source": [
    "test_tRvec = y_test['tR1']\n",
    "test_tRvec.shape"
   ]
  },
  {
   "cell_type": "code",
   "execution_count": null,
   "id": "0d9bdaed-1fbb-4cad-b91d-19caee01424d",
   "metadata": {},
   "outputs": [],
   "source": [
    "test_tRvec"
   ]
  },
  {
   "cell_type": "code",
   "execution_count": null,
   "id": "e7532cb5-efaf-4214-abdc-096cc25990de",
   "metadata": {},
   "outputs": [],
   "source": [
    "pred = best_estim.predict(Xtest)\n",
    "\n",
    "rmse_err = skl_me.mean_squared_error(test_tRvec, pred, squared = False)\n",
    "\n",
    "r2 = r2_score(test_tRvec, pred)\n",
    "\n",
    "print (f'G2 - Best Features SVR hyperparameters - testing scores')\n",
    "print (f'---------------')\n",
    "print(f\"R2: %.3f\" % r2)\n",
    "print (f\"RMSE: %.3f\" % rmse_err)"
   ]
  },
  {
   "cell_type": "code",
   "execution_count": null,
   "id": "b51669bf-0222-4c52-b5ab-408d3af0a7c7",
   "metadata": {},
   "outputs": [],
   "source": [
    "plt.figure(figsize=(5,4))\n",
    "plt.scatter(test_tRvec, pred, c='#6495ED', s=14)\n",
    "\n",
    "p1 = max(max(pred), max(test_tRvec))\n",
    "p2 = min(min(pred), min(test_tRvec))\n",
    "plt.plot([p1, p2], [p1, p2], 'k-')\n",
    "plt.xlabel(\"$ Observed_ t_R (min)$\", fontsize=11)\n",
    "plt.ylabel(\" $Predicted_ t_R (min)$\", fontsize=11)\n",
    "plt.axis('equal')\n",
    "plt.savefig('G2_SVR.pdf', format='pdf', dpi=1200, bbox_inches='tight')\n",
    "plt.show()"
   ]
  },
  {
   "cell_type": "code",
   "execution_count": null,
   "id": "33c39efa-e445-4aab-a92a-bf5d363b7c35",
   "metadata": {},
   "outputs": [],
   "source": []
  }
 ],
 "metadata": {
  "kernelspec": {
   "display_name": "Python 3 (ipykernel)",
   "language": "python",
   "name": "python3"
  },
  "language_info": {
   "codemirror_mode": {
    "name": "ipython",
    "version": 3
   },
   "file_extension": ".py",
   "mimetype": "text/x-python",
   "name": "python",
   "nbconvert_exporter": "python",
   "pygments_lexer": "ipython3",
   "version": "3.11.5"
  }
 },
 "nbformat": 4,
 "nbformat_minor": 5
}
